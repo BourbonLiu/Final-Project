{
 "cells": [
  {
   "cell_type": "code",
   "execution_count": null,
   "id": "0749c1bd",
   "metadata": {},
   "outputs": [],
   "source": [
    "import pandas as pd"
   ]
  },
  {
   "cell_type": "code",
   "execution_count": null,
   "id": "0f817583",
   "metadata": {},
   "outputs": [],
   "source": [
    "pd.options.display.max_colwidth = None\n",
    "pd.options.display.max_columns = None\n",
    "pd.options.display.max_rows = None"
   ]
  },
  {
   "cell_type": "markdown",
   "id": "51eae001",
   "metadata": {},
   "source": [
    "# Dataset\n",
    "* Dataset/Done/restaurants.csv\n",
    "* Dataset/Done/reviews.csv\n",
    "* Dataset/Done/user.csv\n",
    "* Dataset/photos.json"
   ]
  },
  {
   "cell_type": "markdown",
   "id": "d8628429",
   "metadata": {},
   "source": [
    "# Restaurants"
   ]
  },
  {
   "cell_type": "code",
   "execution_count": null,
   "id": "4ba58ce3",
   "metadata": {
    "scrolled": true
   },
   "outputs": [],
   "source": [
    "restaurants = pd.read_csv(\"Dataset/Done/restaurants.csv\", sep=',')"
   ]
  },
  {
   "cell_type": "code",
   "execution_count": null,
   "id": "f6ba7856",
   "metadata": {},
   "outputs": [],
   "source": [
    "print(restaurants.keys())\n",
    "print(\"資料筆數: \" + str(len(restaurants)))\n",
    "restaurants.head()"
   ]
  },
  {
   "cell_type": "code",
   "execution_count": null,
   "id": "bf4a7212",
   "metadata": {
    "scrolled": false
   },
   "outputs": [],
   "source": [
    "print(\"資料是否有重複: \" + str(restaurants['name'].duplicated().any()))\n",
    "print(\"資料是否有空值:\\n\" + str(restaurants.isnull().any()))"
   ]
  },
  {
   "cell_type": "code",
   "execution_count": null,
   "id": "41e42a32",
   "metadata": {
    "scrolled": true
   },
   "outputs": [],
   "source": [
    "# 查看有幾筆資料重複，發現重複的都是連鎖餐飲\n",
    "display(restaurants['name'].duplicated().sum())\n",
    "display(restaurants[restaurants['name'].duplicated()].head())"
   ]
  },
  {
   "cell_type": "code",
   "execution_count": null,
   "id": "7f07ad01",
   "metadata": {
    "scrolled": true
   },
   "outputs": [],
   "source": [
    "# 查看有幾筆餐廳資料的地址是null\n",
    "display(restaurants['address'].isnull().sum())\n",
    "display(restaurants[restaurants['address'].isnull()].head())"
   ]
  },
  {
   "cell_type": "markdown",
   "id": "5530bd3e",
   "metadata": {},
   "source": [
    "### Get all of restaurants in Portland "
   ]
  },
  {
   "cell_type": "code",
   "execution_count": null,
   "id": "e283bd6c",
   "metadata": {
    "scrolled": false
   },
   "outputs": [],
   "source": [
    "Portland = restaurants[restaurants['city']=='Portland'].reset_index(drop=True)\n",
    "len(Portland)"
   ]
  },
  {
   "cell_type": "code",
   "execution_count": null,
   "id": "a745e8f7",
   "metadata": {
    "scrolled": true
   },
   "outputs": [],
   "source": [
    "len(Portland[Portland['address'].isnull()])"
   ]
  },
  {
   "cell_type": "code",
   "execution_count": null,
   "id": "1e9cc0b6",
   "metadata": {
    "scrolled": true
   },
   "outputs": [],
   "source": [
    "Portland = Portland.dropna(subset=['address']).reset_index(drop=True)\n",
    "len(Portland)"
   ]
  },
  {
   "cell_type": "code",
   "execution_count": null,
   "id": "590b8209",
   "metadata": {},
   "outputs": [],
   "source": [
    "ls = [\"Safeway\", \"Hongs Restaurant Equipment & Supplies\", \"Living Health\"]\n",
    "\n",
    "for i in ls:\n",
    "    Portland = Portland.drop(Portland[Portland['name']==i].index)\n",
    "\n",
    "Portland = Portland.reset_index(drop=True)\n",
    "len(Portland)"
   ]
  },
  {
   "cell_type": "code",
   "execution_count": null,
   "id": "8083750d",
   "metadata": {},
   "outputs": [],
   "source": [
    "Portland.to_json('Dataset/Done/portland.json', orient=\"records\")"
   ]
  },
  {
   "cell_type": "markdown",
   "id": "edab9dfc",
   "metadata": {},
   "source": [
    "# Reviews"
   ]
  },
  {
   "cell_type": "code",
   "execution_count": null,
   "id": "f07b8b61",
   "metadata": {
    "scrolled": true
   },
   "outputs": [],
   "source": [
    "reviews = pd.read_csv(\"Dataset/Done/reviews.csv\", sep=',')"
   ]
  },
  {
   "cell_type": "code",
   "execution_count": null,
   "id": "334b1b30",
   "metadata": {
    "scrolled": true
   },
   "outputs": [],
   "source": [
    "diplay(reviews.keys())\n",
    "reviews.head()"
   ]
  },
  {
   "cell_type": "code",
   "execution_count": null,
   "id": "507be9c9",
   "metadata": {
    "scrolled": true
   },
   "outputs": [],
   "source": [
    "print(\"最早評論時間: \" + reviews['date'].min())\n",
    "print(\"最晚評論時間: \" + reviews['date'].max())\n",
    "print(\"資料筆數: \" + str(len(reviews)))\n",
    "print(\"資料是否有重複: \" + str(reviews['text'].duplicated().any()))\n",
    "print(\"資料是否有空值: \" + str(reviews['text'].isnull().any()))"
   ]
  },
  {
   "cell_type": "markdown",
   "id": "4c04af98",
   "metadata": {},
   "source": [
    "#### 處理重複資料"
   ]
  },
  {
   "cell_type": "code",
   "execution_count": null,
   "id": "fe2868c5",
   "metadata": {
    "scrolled": true
   },
   "outputs": [],
   "source": [
    "# 查看有幾筆資料重複\n",
    "display(reviews['text'].duplicated().sum())\n",
    "display(reviews[reviews['text'].duplicated()].head())"
   ]
  },
  {
   "cell_type": "code",
   "execution_count": null,
   "id": "4bf83960",
   "metadata": {
    "scrolled": false
   },
   "outputs": [],
   "source": [
    "# 發現有部分使用者會留下相同的評論在同一間餐廳或不同間餐廳\n",
    "display(reviews[reviews['text']==\"The best cafe ever . fresh food and super clean place . fresh fruit smoothies and fresh baked pastries everyday with a fantastic coffee\"])\n",
    "display(reviews[reviews['text']==\"Great prices and really good food. \\n\\nHad a beef Torta and beef tacos. The bread and tortillas were freshly made that day. \\n\\nThe sauce on the Torta was the perfect mixture of spice and flavor. \\n\\nThe beef has a great flavor, which tends to get lost at most the taquerias in this area. \\n\\nHad it Sunday night and two nights later we're going back for more!!\"])"
   ]
  },
  {
   "cell_type": "code",
   "execution_count": null,
   "id": "bc0e52ac",
   "metadata": {},
   "outputs": [],
   "source": [
    "# 清除同一間餐廳裡重複的評論，並再次確認\n",
    "reviews = reviews.drop_duplicates(subset=['business_id', 'text']).reset_index(drop=True)\n",
    "reviews.duplicated(subset=['business_id', 'text']).any()\n",
    "print(\"資料筆數: \" + str(len(reviews)))"
   ]
  },
  {
   "cell_type": "code",
   "execution_count": null,
   "id": "07f1ffb1",
   "metadata": {
    "scrolled": true
   },
   "outputs": [],
   "source": [
    "# 選取我們需要的欄位\n",
    "reviews = reviews[['business_id', 'review_id', 'user_id', 'stars', 'text', 'date']]\n",
    "reviews.head()"
   ]
  },
  {
   "cell_type": "markdown",
   "id": "326766bd",
   "metadata": {},
   "source": [
    "#### 查看哪個城市擁有最多評論"
   ]
  },
  {
   "cell_type": "code",
   "execution_count": null,
   "id": "35bd62b8",
   "metadata": {
    "scrolled": false
   },
   "outputs": [],
   "source": [
    "final_reviews = pd.merge(reviews, restaurants[['business_id','city']], on=\"business_id\", how=\"left\")\n",
    "final_reviews.head(3)"
   ]
  },
  {
   "cell_type": "code",
   "execution_count": null,
   "id": "c3ea6c4b",
   "metadata": {},
   "outputs": [],
   "source": [
    "print(\"各城市所有評論數:\")\n",
    "final_reviews['city'].value_counts().head()"
   ]
  },
  {
   "cell_type": "code",
   "execution_count": null,
   "id": "a9c34aa3",
   "metadata": {
    "scrolled": true
   },
   "outputs": [],
   "source": [
    "print(f\"Austin  有 {(len(restaurants[restaurants['city']=='Austin']))} 間餐廳\")\n",
    "print(f\"Portland有 {(len(restaurants[restaurants['city']=='Portland']))} 間餐廳\")\n",
    "print(f\"Atlanta 有 {(len(restaurants[restaurants['city']=='Atlanta']))} 間餐廳\")"
   ]
  },
  {
   "cell_type": "markdown",
   "id": "a3d177c2",
   "metadata": {},
   "source": [
    "# User"
   ]
  },
  {
   "cell_type": "code",
   "execution_count": null,
   "id": "c1bcf403",
   "metadata": {
    "scrolled": false
   },
   "outputs": [],
   "source": [
    "user = pd.read_csv(\"Dataset/Done/user.csv\")"
   ]
  },
  {
   "cell_type": "code",
   "execution_count": null,
   "id": "857bf023",
   "metadata": {},
   "outputs": [],
   "source": [
    "print(user.keys())\n",
    "print(\"資料筆數: \" + str(len(user)))\n",
    "user.head()"
   ]
  },
  {
   "cell_type": "code",
   "execution_count": null,
   "id": "4babd6c3",
   "metadata": {},
   "outputs": [],
   "source": [
    "print(\"資料筆數: \" + str(len(user)))\n",
    "print(\"資料是否有重複: \" + str(user['user_id'].duplicated().any()))\n",
    "print(\"資料是否有空值: \" + str(user['user_id'].isnull().any()))"
   ]
  },
  {
   "cell_type": "markdown",
   "id": "8a49295d",
   "metadata": {},
   "source": [
    "# Photos "
   ]
  },
  {
   "cell_type": "code",
   "execution_count": null,
   "id": "33f0373a",
   "metadata": {},
   "outputs": [],
   "source": [
    "photos = pd.read_json(\"Dataset/photos.json\", lines=True)"
   ]
  },
  {
   "cell_type": "code",
   "execution_count": null,
   "id": "50b46f97",
   "metadata": {},
   "outputs": [],
   "source": [
    "print(\"資料筆數: \" + str(len(photos)))\n",
    "photos.head()"
   ]
  },
  {
   "cell_type": "markdown",
   "id": "43995b59",
   "metadata": {},
   "source": [
    "#### Get all photos of restaurant in Portland"
   ]
  },
  {
   "cell_type": "code",
   "execution_count": null,
   "id": "894196f2",
   "metadata": {},
   "outputs": [],
   "source": [
    "Portland = pd.read_json(\"Dataset/Done/portland.json\")"
   ]
  },
  {
   "cell_type": "code",
   "execution_count": null,
   "id": "67d3c66c",
   "metadata": {},
   "outputs": [],
   "source": [
    "Portland = pd.merge(Portland, photos[['business_id', 'photo_id', 'label']], on='business_id', how='left')"
   ]
  },
  {
   "cell_type": "code",
   "execution_count": null,
   "id": "4f8d9ba9",
   "metadata": {},
   "outputs": [],
   "source": [
    "print(len(Portland))\n",
    "Portland.head(10)"
   ]
  },
  {
   "cell_type": "code",
   "execution_count": null,
   "id": "8c1688fb",
   "metadata": {},
   "outputs": [],
   "source": [
    "print(f\"在Portland是否有餐廳沒有相片: {Portland['photo_id'].isnull().any()}\")\n",
    "print(f\"在Portland有幾間餐廳沒有相片: {Portland['photo_id'].isnull().sum()}\")\n",
    "print(f\"在Portland是否有一間餐廳擁有多張相片: {Portland.duplicated('business_id').any()}\")\n",
    "print(f\"在Portland共有多少張相片集中在部分餐廳: {Portland.duplicated('business_id').sum()}\")"
   ]
  },
  {
   "cell_type": "markdown",
   "id": "99ee2832",
   "metadata": {},
   "source": [
    "# Clear all variables to release memory"
   ]
  },
  {
   "cell_type": "code",
   "execution_count": null,
   "id": "6422b4d5",
   "metadata": {},
   "outputs": [],
   "source": [
    "reset"
   ]
  }
 ],
 "metadata": {
  "kernelspec": {
   "display_name": "Python 3",
   "language": "python",
   "name": "python3"
  },
  "language_info": {
   "codemirror_mode": {
    "name": "ipython",
    "version": 3
   },
   "file_extension": ".py",
   "mimetype": "text/x-python",
   "name": "python",
   "nbconvert_exporter": "python",
   "pygments_lexer": "ipython3",
   "version": "3.8.8"
  }
 },
 "nbformat": 4,
 "nbformat_minor": 5
}
