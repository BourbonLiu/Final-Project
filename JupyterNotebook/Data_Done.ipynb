{
 "cells": [
  {
   "cell_type": "code",
   "execution_count": 1,
   "id": "0749c1bd",
   "metadata": {},
   "outputs": [],
   "source": [
    "import pandas as pd"
   ]
  },
  {
   "cell_type": "code",
   "execution_count": 2,
   "id": "0f817583",
   "metadata": {},
   "outputs": [],
   "source": [
    "pd.options.display.max_colwidth = 70\n",
    "pd.options.display.max_columns = None\n",
    "pd.options.display.max_rows = None"
   ]
  },
  {
   "cell_type": "markdown",
   "id": "51eae001",
   "metadata": {},
   "source": [
    "# Dataset\n",
    "* Dataset/Done/restaurants.csv\n",
    "* Dataset/Done/reviews.csv\n",
    "* Dataset/Done/user.csv"
   ]
  },
  {
   "cell_type": "markdown",
   "id": "d8628429",
   "metadata": {},
   "source": [
    "# Restaurants"
   ]
  },
  {
   "cell_type": "code",
   "execution_count": 3,
   "id": "4ba58ce3",
   "metadata": {
    "scrolled": true
   },
   "outputs": [
    {
     "data": {
      "text/plain": [
       "Index(['business_id', 'name', 'address', 'city', 'state', 'postal_code',\n",
       "       'latitude', 'longitude', 'stars', 'review_count', 'is_open',\n",
       "       'attributes', 'categories', 'hours'],\n",
       "      dtype='object')"
      ]
     },
     "metadata": {},
     "output_type": "display_data"
    },
    {
     "data": {
      "text/html": [
       "<div>\n",
       "<style scoped>\n",
       "    .dataframe tbody tr th:only-of-type {\n",
       "        vertical-align: middle;\n",
       "    }\n",
       "\n",
       "    .dataframe tbody tr th {\n",
       "        vertical-align: top;\n",
       "    }\n",
       "\n",
       "    .dataframe thead th {\n",
       "        text-align: right;\n",
       "    }\n",
       "</style>\n",
       "<table border=\"1\" class=\"dataframe\">\n",
       "  <thead>\n",
       "    <tr style=\"text-align: right;\">\n",
       "      <th></th>\n",
       "      <th>business_id</th>\n",
       "      <th>name</th>\n",
       "      <th>address</th>\n",
       "      <th>city</th>\n",
       "      <th>state</th>\n",
       "      <th>postal_code</th>\n",
       "      <th>latitude</th>\n",
       "      <th>longitude</th>\n",
       "      <th>stars</th>\n",
       "      <th>review_count</th>\n",
       "      <th>is_open</th>\n",
       "      <th>attributes</th>\n",
       "      <th>categories</th>\n",
       "      <th>hours</th>\n",
       "    </tr>\n",
       "  </thead>\n",
       "  <tbody>\n",
       "    <tr>\n",
       "      <th>0</th>\n",
       "      <td>6iYb2HFDywm3zjuRg0shjw</td>\n",
       "      <td>Oskar Blues Taproom</td>\n",
       "      <td>921 Pearl St</td>\n",
       "      <td>Boulder</td>\n",
       "      <td>CO</td>\n",
       "      <td>80302</td>\n",
       "      <td>40.017544</td>\n",
       "      <td>-105.283348</td>\n",
       "      <td>4.0</td>\n",
       "      <td>86</td>\n",
       "      <td>1</td>\n",
       "      <td>{'RestaurantsTableService': 'True', 'WiFi': \"u'free'\", 'BikeParking': 'True', 'BusinessParking': \"{'garage': False, 'street': True, 'validated': False, 'lot': False, 'valet': False}\", 'BusinessAcceptsCreditCards': 'True', 'RestaurantsReservations': 'False', 'WheelchairAccessible': 'True', 'Caters': 'True', 'OutdoorSeating': 'True', 'RestaurantsGoodForGroups': 'True', 'HappyHour': 'True', 'BusinessAcceptsBitcoin': 'False', 'RestaurantsPriceRange2': '2', 'Ambience': \"{'touristy': False, 'hipster': False, 'romantic': False, 'divey': False, 'intimate': False, 'trendy': False, 'upscale': False, 'classy': False, 'casual': True}\", 'HasTV': 'True', 'Alcohol': \"'beer_and_wine'\", 'GoodForMeal': \"{'dessert': False, 'latenight': False, 'lunch': False, 'dinner': False, 'brunch': False, 'breakfast': False}\", 'DogsAllowed': 'False', 'RestaurantsTakeOut': 'True', 'NoiseLevel': \"u'average'\", 'RestaurantsAttire': \"'casual'\", 'RestaurantsDelivery': 'None'}</td>\n",
       "      <td>Gastropubs, Food, Beer Gardens, Restaurants, Bars, American (Traditional), Beer Bar, Nightlife, Breweries</td>\n",
       "      <td>{'Monday': '11:0-23:0', 'Tuesday': '11:0-23:0', 'Wednesday': '11:0-23:0', 'Thursday': '11:0-23:0', 'Friday': '11:0-23:0', 'Saturday': '11:0-23:0', 'Sunday': '11:0-23:0'}</td>\n",
       "    </tr>\n",
       "    <tr>\n",
       "      <th>1</th>\n",
       "      <td>tCbdrRPZA0oiIYSmHG3J0w</td>\n",
       "      <td>Flying Elephants at PDX</td>\n",
       "      <td>7000 NE Airport Way</td>\n",
       "      <td>Portland</td>\n",
       "      <td>OR</td>\n",
       "      <td>97218</td>\n",
       "      <td>45.588906</td>\n",
       "      <td>-122.593331</td>\n",
       "      <td>4.0</td>\n",
       "      <td>126</td>\n",
       "      <td>1</td>\n",
       "      <td>{'RestaurantsTakeOut': 'True', 'RestaurantsAttire': \"u'casual'\", 'GoodForKids': 'True', 'BikeParking': 'False', 'OutdoorSeating': 'False', 'Ambience': \"{'romantic': False, 'intimate': False, 'touristy': False, 'hipster': False, 'divey': False, 'classy': False, 'trendy': False, 'upscale': False, 'casual': True}\", 'Caters': 'True', 'RestaurantsReservations': 'False', 'RestaurantsDelivery': 'False', 'HasTV': 'False', 'RestaurantsGoodForGroups': 'False', 'BusinessAcceptsCreditCards': 'True', 'NoiseLevel': \"u'average'\", 'ByAppointmentOnly': 'False', 'RestaurantsPriceRange2': '2', 'WiFi': \"u'free'\", 'BusinessParking': \"{'garage': True, 'street': False, 'validated': False, 'lot': False, 'valet': False}\", 'Alcohol': \"u'beer_and_wine'\", 'GoodForMeal': \"{'dessert': False, 'latenight': False, 'lunch': True, 'dinner': False, 'brunch': False, 'breakfast': True}\"}</td>\n",
       "      <td>Salad, Soup, Sandwiches, Delis, Restaurants, Cafes, Vegetarian</td>\n",
       "      <td>{'Monday': '5:0-18:0', 'Tuesday': '5:0-17:0', 'Wednesday': '5:0-18:0', 'Thursday': '5:0-18:0', 'Friday': '5:0-18:0', 'Saturday': '5:0-18:0', 'Sunday': '5:0-18:0'}</td>\n",
       "    </tr>\n",
       "    <tr>\n",
       "      <th>2</th>\n",
       "      <td>D4JtQNTI4X3KcbzacDJsMw</td>\n",
       "      <td>Bob Likes Thai Food</td>\n",
       "      <td>3755 Main St</td>\n",
       "      <td>Vancouver</td>\n",
       "      <td>BC</td>\n",
       "      <td>V5V</td>\n",
       "      <td>49.251342</td>\n",
       "      <td>-123.101333</td>\n",
       "      <td>3.5</td>\n",
       "      <td>169</td>\n",
       "      <td>1</td>\n",
       "      <td>{'GoodForKids': 'True', 'Alcohol': \"u'none'\", 'RestaurantsGoodForGroups': 'True', 'RestaurantsReservations': 'True', 'BusinessParking': \"{'garage': False, 'street': True, 'validated': False, 'lot': False, 'valet': False}\", 'RestaurantsAttire': \"u'casual'\", 'BikeParking': 'True', 'RestaurantsPriceRange2': '2', 'HasTV': 'False', 'NoiseLevel': \"u'average'\", 'WiFi': \"u'no'\", 'RestaurantsTakeOut': 'True', 'Caters': 'False', 'OutdoorSeating': 'False', 'Ambience': \"{'romantic': False, 'intimate': False, 'classy': False, 'hipster': False, 'divey': False, 'touristy': False, 'trendy': False, 'upscale': False, 'casual': True}\", 'GoodForMeal': \"{'dessert': False, 'latenight': False, 'lunch': True, 'dinner': True, 'brunch': False, 'breakfast': False}\", 'DogsAllowed': 'False', 'RestaurantsDelivery': 'True'}</td>\n",
       "      <td>Restaurants, Thai</td>\n",
       "      <td>{'Monday': '17:0-21:0', 'Tuesday': '17:0-21:0', 'Wednesday': '17:0-21:0', 'Thursday': '17:0-21:0', 'Friday': '17:0-21:0', 'Saturday': '17:0-21:0', 'Sunday': '17:0-21:0'}</td>\n",
       "    </tr>\n",
       "    <tr>\n",
       "      <th>3</th>\n",
       "      <td>jFYIsSb7r1QeESVUnXPHBw</td>\n",
       "      <td>Boxwood Biscuit</td>\n",
       "      <td>740 S High St</td>\n",
       "      <td>Columbus</td>\n",
       "      <td>OH</td>\n",
       "      <td>43206</td>\n",
       "      <td>39.947007</td>\n",
       "      <td>-82.997471</td>\n",
       "      <td>4.5</td>\n",
       "      <td>11</td>\n",
       "      <td>1</td>\n",
       "      <td>NaN</td>\n",
       "      <td>Breakfast &amp; Brunch, Restaurants</td>\n",
       "      <td>{'Saturday': '8:0-14:0', 'Sunday': '8:0-14:0'}</td>\n",
       "    </tr>\n",
       "    <tr>\n",
       "      <th>4</th>\n",
       "      <td>HPA_qyMEddpAEtFof02ixg</td>\n",
       "      <td>Mr G's Pizza &amp; Subs</td>\n",
       "      <td>474 Lowell St</td>\n",
       "      <td>Peabody</td>\n",
       "      <td>MA</td>\n",
       "      <td>01960</td>\n",
       "      <td>42.541155</td>\n",
       "      <td>-70.973438</td>\n",
       "      <td>4.0</td>\n",
       "      <td>39</td>\n",
       "      <td>1</td>\n",
       "      <td>{'RestaurantsGoodForGroups': 'True', 'HasTV': 'True', 'GoodForKids': 'True', 'RestaurantsTakeOut': 'True', 'RestaurantsPriceRange2': '2', 'Ambience': \"{'romantic': False, 'intimate': False, 'classy': False, 'hipster': False, 'divey': False, 'touristy': False, 'trendy': False, 'upscale': False, 'casual': True}\", 'BikeParking': 'True', 'RestaurantsReservations': 'False', 'BusinessParking': \"{'garage': False, 'street': False, 'validated': False, 'lot': True, 'valet': False}\", 'RestaurantsTableService': 'False', 'RestaurantsAttire': \"u'casual'\", 'RestaurantsDelivery': 'True', 'OutdoorSeating': 'True', 'DogsAllowed': 'True', 'NoiseLevel': \"'average'\", 'Alcohol': \"u'none'\", 'BusinessAcceptsCreditCards': 'True', 'Caters': 'True', 'WheelchairAccessible': 'True', 'WiFi': \"u'free'\", 'BusinessAcceptsBitcoin': 'False'}</td>\n",
       "      <td>Food, Pizza, Restaurants</td>\n",
       "      <td>{'Monday': '11:0-21:0', 'Tuesday': '11:0-21:0', 'Wednesday': '11:0-21:0', 'Thursday': '11:0-21:0', 'Friday': '11:0-22:0', 'Saturday': '11:0-22:0'}</td>\n",
       "    </tr>\n",
       "  </tbody>\n",
       "</table>\n",
       "</div>"
      ],
      "text/plain": [
       "              business_id                     name              address  \\\n",
       "0  6iYb2HFDywm3zjuRg0shjw      Oskar Blues Taproom         921 Pearl St   \n",
       "1  tCbdrRPZA0oiIYSmHG3J0w  Flying Elephants at PDX  7000 NE Airport Way   \n",
       "2  D4JtQNTI4X3KcbzacDJsMw      Bob Likes Thai Food         3755 Main St   \n",
       "3  jFYIsSb7r1QeESVUnXPHBw          Boxwood Biscuit        740 S High St   \n",
       "4  HPA_qyMEddpAEtFof02ixg      Mr G's Pizza & Subs        474 Lowell St   \n",
       "\n",
       "        city state postal_code   latitude   longitude  stars  review_count  \\\n",
       "0    Boulder    CO       80302  40.017544 -105.283348    4.0            86   \n",
       "1   Portland    OR       97218  45.588906 -122.593331    4.0           126   \n",
       "2  Vancouver    BC         V5V  49.251342 -123.101333    3.5           169   \n",
       "3   Columbus    OH       43206  39.947007  -82.997471    4.5            11   \n",
       "4    Peabody    MA       01960  42.541155  -70.973438    4.0            39   \n",
       "\n",
       "   is_open  \\\n",
       "0        1   \n",
       "1        1   \n",
       "2        1   \n",
       "3        1   \n",
       "4        1   \n",
       "\n",
       "                                                                                                                                                                                                                                                                                                                                                                                                                                                                                                                                                                                                                                                                                                                                                                                                                                                                                                                                                                                attributes  \\\n",
       "0  {'RestaurantsTableService': 'True', 'WiFi': \"u'free'\", 'BikeParking': 'True', 'BusinessParking': \"{'garage': False, 'street': True, 'validated': False, 'lot': False, 'valet': False}\", 'BusinessAcceptsCreditCards': 'True', 'RestaurantsReservations': 'False', 'WheelchairAccessible': 'True', 'Caters': 'True', 'OutdoorSeating': 'True', 'RestaurantsGoodForGroups': 'True', 'HappyHour': 'True', 'BusinessAcceptsBitcoin': 'False', 'RestaurantsPriceRange2': '2', 'Ambience': \"{'touristy': False, 'hipster': False, 'romantic': False, 'divey': False, 'intimate': False, 'trendy': False, 'upscale': False, 'classy': False, 'casual': True}\", 'HasTV': 'True', 'Alcohol': \"'beer_and_wine'\", 'GoodForMeal': \"{'dessert': False, 'latenight': False, 'lunch': False, 'dinner': False, 'brunch': False, 'breakfast': False}\", 'DogsAllowed': 'False', 'RestaurantsTakeOut': 'True', 'NoiseLevel': \"u'average'\", 'RestaurantsAttire': \"'casual'\", 'RestaurantsDelivery': 'None'}   \n",
       "1                                                                                           {'RestaurantsTakeOut': 'True', 'RestaurantsAttire': \"u'casual'\", 'GoodForKids': 'True', 'BikeParking': 'False', 'OutdoorSeating': 'False', 'Ambience': \"{'romantic': False, 'intimate': False, 'touristy': False, 'hipster': False, 'divey': False, 'classy': False, 'trendy': False, 'upscale': False, 'casual': True}\", 'Caters': 'True', 'RestaurantsReservations': 'False', 'RestaurantsDelivery': 'False', 'HasTV': 'False', 'RestaurantsGoodForGroups': 'False', 'BusinessAcceptsCreditCards': 'True', 'NoiseLevel': \"u'average'\", 'ByAppointmentOnly': 'False', 'RestaurantsPriceRange2': '2', 'WiFi': \"u'free'\", 'BusinessParking': \"{'garage': True, 'street': False, 'validated': False, 'lot': False, 'valet': False}\", 'Alcohol': \"u'beer_and_wine'\", 'GoodForMeal': \"{'dessert': False, 'latenight': False, 'lunch': True, 'dinner': False, 'brunch': False, 'breakfast': True}\"}   \n",
       "2                                                                                                                                                     {'GoodForKids': 'True', 'Alcohol': \"u'none'\", 'RestaurantsGoodForGroups': 'True', 'RestaurantsReservations': 'True', 'BusinessParking': \"{'garage': False, 'street': True, 'validated': False, 'lot': False, 'valet': False}\", 'RestaurantsAttire': \"u'casual'\", 'BikeParking': 'True', 'RestaurantsPriceRange2': '2', 'HasTV': 'False', 'NoiseLevel': \"u'average'\", 'WiFi': \"u'no'\", 'RestaurantsTakeOut': 'True', 'Caters': 'False', 'OutdoorSeating': 'False', 'Ambience': \"{'romantic': False, 'intimate': False, 'classy': False, 'hipster': False, 'divey': False, 'touristy': False, 'trendy': False, 'upscale': False, 'casual': True}\", 'GoodForMeal': \"{'dessert': False, 'latenight': False, 'lunch': True, 'dinner': True, 'brunch': False, 'breakfast': False}\", 'DogsAllowed': 'False', 'RestaurantsDelivery': 'True'}   \n",
       "3                                                                                                                                                                                                                                                                                                                                                                                                                                                                                                                                                                                                                                                                                                                                                                                                                                                                                                                                                                                      NaN   \n",
       "4                                                                                                                                       {'RestaurantsGoodForGroups': 'True', 'HasTV': 'True', 'GoodForKids': 'True', 'RestaurantsTakeOut': 'True', 'RestaurantsPriceRange2': '2', 'Ambience': \"{'romantic': False, 'intimate': False, 'classy': False, 'hipster': False, 'divey': False, 'touristy': False, 'trendy': False, 'upscale': False, 'casual': True}\", 'BikeParking': 'True', 'RestaurantsReservations': 'False', 'BusinessParking': \"{'garage': False, 'street': False, 'validated': False, 'lot': True, 'valet': False}\", 'RestaurantsTableService': 'False', 'RestaurantsAttire': \"u'casual'\", 'RestaurantsDelivery': 'True', 'OutdoorSeating': 'True', 'DogsAllowed': 'True', 'NoiseLevel': \"'average'\", 'Alcohol': \"u'none'\", 'BusinessAcceptsCreditCards': 'True', 'Caters': 'True', 'WheelchairAccessible': 'True', 'WiFi': \"u'free'\", 'BusinessAcceptsBitcoin': 'False'}   \n",
       "\n",
       "                                                                                                  categories  \\\n",
       "0  Gastropubs, Food, Beer Gardens, Restaurants, Bars, American (Traditional), Beer Bar, Nightlife, Breweries   \n",
       "1                                             Salad, Soup, Sandwiches, Delis, Restaurants, Cafes, Vegetarian   \n",
       "2                                                                                          Restaurants, Thai   \n",
       "3                                                                            Breakfast & Brunch, Restaurants   \n",
       "4                                                                                   Food, Pizza, Restaurants   \n",
       "\n",
       "                                                                                                                                                                       hours  \n",
       "0  {'Monday': '11:0-23:0', 'Tuesday': '11:0-23:0', 'Wednesday': '11:0-23:0', 'Thursday': '11:0-23:0', 'Friday': '11:0-23:0', 'Saturday': '11:0-23:0', 'Sunday': '11:0-23:0'}  \n",
       "1         {'Monday': '5:0-18:0', 'Tuesday': '5:0-17:0', 'Wednesday': '5:0-18:0', 'Thursday': '5:0-18:0', 'Friday': '5:0-18:0', 'Saturday': '5:0-18:0', 'Sunday': '5:0-18:0'}  \n",
       "2  {'Monday': '17:0-21:0', 'Tuesday': '17:0-21:0', 'Wednesday': '17:0-21:0', 'Thursday': '17:0-21:0', 'Friday': '17:0-21:0', 'Saturday': '17:0-21:0', 'Sunday': '17:0-21:0'}  \n",
       "3                                                                                                                             {'Saturday': '8:0-14:0', 'Sunday': '8:0-14:0'}  \n",
       "4                         {'Monday': '11:0-21:0', 'Tuesday': '11:0-21:0', 'Wednesday': '11:0-21:0', 'Thursday': '11:0-21:0', 'Friday': '11:0-22:0', 'Saturday': '11:0-22:0'}  "
      ]
     },
     "execution_count": 3,
     "metadata": {},
     "output_type": "execute_result"
    }
   ],
   "source": [
    "restaurants = pd.read_csv(\"Dataset/Done/restaurants.csv\", sep=',')\n",
    "display(restaurants.keys())\n",
    "restaurants.head()"
   ]
  },
  {
   "cell_type": "code",
   "execution_count": 4,
   "id": "bf4a7212",
   "metadata": {
    "scrolled": false
   },
   "outputs": [
    {
     "name": "stdout",
     "output_type": "stream",
     "text": [
      "資料筆數: 50763\n",
      "資料是否有重複: True\n",
      "資料是否有空值:\n",
      "business_id     False\n",
      "name            False\n",
      "address          True\n",
      "city            False\n",
      "state           False\n",
      "postal_code      True\n",
      "latitude        False\n",
      "longitude       False\n",
      "stars           False\n",
      "review_count    False\n",
      "is_open         False\n",
      "attributes       True\n",
      "categories      False\n",
      "hours            True\n",
      "dtype: bool\n"
     ]
    }
   ],
   "source": [
    "print(\"資料筆數: \" + str(len(restaurants)))\n",
    "print(\"資料是否有重複: \" + str(restaurants['name'].duplicated().any()))\n",
    "print(\"資料是否有空值:\\n\" + str(restaurants.isnull().any()))"
   ]
  },
  {
   "cell_type": "code",
   "execution_count": 5,
   "id": "41e42a32",
   "metadata": {
    "scrolled": true
   },
   "outputs": [
    {
     "data": {
      "text/plain": [
       "13426"
      ]
     },
     "metadata": {},
     "output_type": "display_data"
    },
    {
     "data": {
      "text/html": [
       "<div>\n",
       "<style scoped>\n",
       "    .dataframe tbody tr th:only-of-type {\n",
       "        vertical-align: middle;\n",
       "    }\n",
       "\n",
       "    .dataframe tbody tr th {\n",
       "        vertical-align: top;\n",
       "    }\n",
       "\n",
       "    .dataframe thead th {\n",
       "        text-align: right;\n",
       "    }\n",
       "</style>\n",
       "<table border=\"1\" class=\"dataframe\">\n",
       "  <thead>\n",
       "    <tr style=\"text-align: right;\">\n",
       "      <th></th>\n",
       "      <th>business_id</th>\n",
       "      <th>name</th>\n",
       "      <th>address</th>\n",
       "      <th>city</th>\n",
       "      <th>state</th>\n",
       "      <th>postal_code</th>\n",
       "      <th>latitude</th>\n",
       "      <th>longitude</th>\n",
       "      <th>stars</th>\n",
       "      <th>review_count</th>\n",
       "      <th>is_open</th>\n",
       "      <th>attributes</th>\n",
       "      <th>categories</th>\n",
       "      <th>hours</th>\n",
       "    </tr>\n",
       "  </thead>\n",
       "  <tbody>\n",
       "    <tr>\n",
       "      <th>90</th>\n",
       "      <td>Ieelu69Y23nbjKG3OGfwnw</td>\n",
       "      <td>McDonald's</td>\n",
       "      <td>5017 Hwy 290 W</td>\n",
       "      <td>Austin</td>\n",
       "      <td>TX</td>\n",
       "      <td>78735</td>\n",
       "      <td>30.232133</td>\n",
       "      <td>-97.823183</td>\n",
       "      <td>1.5</td>\n",
       "      <td>9</td>\n",
       "      <td>1</td>\n",
       "      <td>{'RestaurantsTakeOut': 'True', 'RestaurantsReservations': 'False', 'BusinessAcceptsCreditCards': 'True', 'GoodForKids': 'True', 'RestaurantsGoodForGroups': 'True', 'OutdoorSeating': 'True', 'RestaurantsAttire': \"'casual'\", 'Ambience': \"{'romantic': False, 'intimate': False, 'classy': False, 'hipster': False, 'divey': False, 'touristy': False, 'trendy': False, 'upscale': False, 'casual': False}\", 'WiFi': \"'free'\", 'HasTV': 'True', 'RestaurantsPriceRange2': '1', 'RestaurantsDelivery': 'True', 'DriveThru': 'True'}</td>\n",
       "      <td>Restaurants, Coffee &amp; Tea, Food, Burgers, Fast Food</td>\n",
       "      <td>{'Monday': '7:0-22:30', 'Tuesday': '7:0-22:30', 'Wednesday': '7:0-22:30', 'Thursday': '7:0-22:30', 'Friday': '7:0-23:30', 'Saturday': '7:0-23:30', 'Sunday': '7:0-22:30'}</td>\n",
       "    </tr>\n",
       "    <tr>\n",
       "      <th>116</th>\n",
       "      <td>PP4IjZwLwBqFT3AlnEhajw</td>\n",
       "      <td>Wendy's</td>\n",
       "      <td>69 Newbury Street</td>\n",
       "      <td>Peabody</td>\n",
       "      <td>MA</td>\n",
       "      <td>01960</td>\n",
       "      <td>42.527216</td>\n",
       "      <td>-70.993617</td>\n",
       "      <td>1.5</td>\n",
       "      <td>35</td>\n",
       "      <td>1</td>\n",
       "      <td>{'RestaurantsGoodForGroups': 'True', 'BusinessAcceptsCreditCards': 'True', 'Alcohol': \"u'none'\", 'NoiseLevel': \"'average'\", 'RestaurantsReservations': 'False', 'BikeParking': 'False', 'RestaurantsAttire': \"u'casual'\", 'GoodForKids': 'True', 'RestaurantsTakeOut': 'True', 'BusinessParking': \"{'garage': False, 'street': False, 'validated': False, 'lot': True, 'valet': False}\", 'OutdoorSeating': 'False', 'Caters': 'False', 'RestaurantsDelivery': 'True', 'WiFi': \"'free'\", 'RestaurantsPriceRange2': '1', 'GoodForMeal': \"{'dessert': False, 'latenight': True, 'lunch': True, 'dinner': True, 'brunch': False, 'breakfast': False}\", 'Ambience': \"{'touristy': False, 'hipster': False, 'romantic': False, 'divey': False, 'intimate': False, 'trendy': False, 'upscale': False, 'classy': False, 'casual': False}\", 'HasTV': 'True'}</td>\n",
       "      <td>Restaurants, Burgers, Fast Food</td>\n",
       "      <td>{'Monday': '10:0-2:0', 'Tuesday': '10:0-2:0', 'Wednesday': '10:0-2:0', 'Thursday': '10:0-2:0', 'Friday': '10:0-3:0', 'Saturday': '10:0-3:0', 'Sunday': '10:0-2:0'}</td>\n",
       "    </tr>\n",
       "    <tr>\n",
       "      <th>120</th>\n",
       "      <td>aoH2NWs312ES--8bJTDJEw</td>\n",
       "      <td>McDonald's</td>\n",
       "      <td>127 Broadway</td>\n",
       "      <td>Saugus</td>\n",
       "      <td>MA</td>\n",
       "      <td>01906</td>\n",
       "      <td>42.495702</td>\n",
       "      <td>-71.016722</td>\n",
       "      <td>3.0</td>\n",
       "      <td>27</td>\n",
       "      <td>1</td>\n",
       "      <td>{'RestaurantsReservations': 'False', 'GoodForKids': 'True', 'WiFi': \"u'free'\", 'RestaurantsGoodForGroups': 'True', 'BusinessParking': \"{'garage': False, 'street': False, 'validated': False, 'lot': True, 'valet': False}\", 'RestaurantsPriceRange2': '1', 'Alcohol': \"'none'\", 'OutdoorSeating': 'False', 'RestaurantsTakeOut': 'True', 'RestaurantsAttire': \"'casual'\", 'Caters': 'False', 'HasTV': 'True', 'BusinessAcceptsCreditCards': 'True', 'Ambience': \"{'romantic': False, 'intimate': False, 'touristy': False, 'hipster': False, 'divey': False, 'classy': False, 'trendy': False, 'upscale': False, 'casual': False}\", 'NoiseLevel': \"u'average'\", 'RestaurantsDelivery': 'True', 'DriveThru': 'True'}</td>\n",
       "      <td>Coffee &amp; Tea, Fast Food, Restaurants, Food, Burgers</td>\n",
       "      <td>{'Monday': '6:0-23:0', 'Tuesday': '6:0-23:0', 'Wednesday': '6:0-23:0', 'Thursday': '6:0-23:0', 'Friday': '6:0-0:0', 'Saturday': '6:0-0:0', 'Sunday': '6:0-23:0'}</td>\n",
       "    </tr>\n",
       "    <tr>\n",
       "      <th>131</th>\n",
       "      <td>eOnMGfoj3YOxGPDjrDE-sg</td>\n",
       "      <td>Panda Express</td>\n",
       "      <td>2501 W Parmer Ln</td>\n",
       "      <td>Austin</td>\n",
       "      <td>TX</td>\n",
       "      <td>78727</td>\n",
       "      <td>30.418382</td>\n",
       "      <td>-97.701975</td>\n",
       "      <td>2.0</td>\n",
       "      <td>56</td>\n",
       "      <td>1</td>\n",
       "      <td>{'BusinessAcceptsCreditCards': 'True', 'GoodForKids': 'True', 'RestaurantsTakeOut': 'True', 'Caters': 'True', 'RestaurantsReservations': 'False', 'RestaurantsPriceRange2': '1', 'NoiseLevel': \"'average'\", 'RestaurantsAttire': \"'casual'\", 'OutdoorSeating': 'False', 'BikeParking': 'True', 'Ambience': \"{'touristy': False, 'hipster': False, 'romantic': False, 'divey': False, 'intimate': False, 'trendy': False, 'upscale': False, 'classy': False, 'casual': False}\", 'RestaurantsDelivery': 'True', 'RestaurantsGoodForGroups': 'True', 'Alcohol': \"'none'\", 'BusinessParking': \"{'garage': False, 'street': False, 'validated': False, 'lot': False, 'valet': False}\", 'GoodForMeal': \"{'dessert': False, 'latenight': False, 'lunch': True, 'dinner': False, 'brunch': False, 'breakfast': False}\", 'DriveThru': 'False', 'HasTV': 'True', 'WiFi': \"u'no'\"}</td>\n",
       "      <td>Food, Fast Food, Chinese, Restaurants</td>\n",
       "      <td>{'Monday': '10:30-21:30', 'Tuesday': '10:30-21:30', 'Wednesday': '10:30-21:30', 'Thursday': '10:30-21:30', 'Friday': '10:30-21:30', 'Saturday': '10:30-21:30', 'Sunday': '10:30-21:30'}</td>\n",
       "    </tr>\n",
       "    <tr>\n",
       "      <th>137</th>\n",
       "      <td>BICRl8FOudjjloh1kc9Glw</td>\n",
       "      <td>Wendy's</td>\n",
       "      <td>4051 Millenia Blvd</td>\n",
       "      <td>Orlando</td>\n",
       "      <td>FL</td>\n",
       "      <td>32839</td>\n",
       "      <td>28.491336</td>\n",
       "      <td>-81.428778</td>\n",
       "      <td>4.0</td>\n",
       "      <td>25</td>\n",
       "      <td>1</td>\n",
       "      <td>{'RestaurantsTakeOut': 'True', 'Alcohol': \"u'none'\", 'BusinessAcceptsCreditCards': 'True', 'RestaurantsAttire': \"u'casual'\", 'RestaurantsReservations': 'False', 'RestaurantsGoodForGroups': 'True', 'GoodForKids': 'True', 'Ambience': \"{'touristy': False, 'hipster': False, 'romantic': False, 'divey': False, 'intimate': False, 'trendy': False, 'upscale': False, 'classy': False, 'casual': False}\", 'RestaurantsPriceRange2': '1', 'OutdoorSeating': 'False', 'WiFi': \"'free'\", 'NoiseLevel': \"u'average'\", 'BikeParking': 'False', 'Caters': 'False', 'BusinessParking': \"{'garage': False, 'street': None, 'validated': False, 'lot': True, 'valet': False}\", 'DriveThru': 'True', 'GoodForMeal': \"{'dessert': False, 'latenight': False, 'lunch': True, 'dinner': False, 'brunch': False, 'breakfast': False}\", 'RestaurantsDelivery': 'True', 'HasTV': 'True'}</td>\n",
       "      <td>Restaurants, Burgers, Fast Food</td>\n",
       "      <td>{'Monday': '9:0-2:0', 'Tuesday': '9:0-2:0', 'Wednesday': '9:0-2:0', 'Thursday': '9:0-2:0', 'Friday': '9:0-2:0', 'Saturday': '9:0-2:0', 'Sunday': '9:0-2:0'}</td>\n",
       "    </tr>\n",
       "  </tbody>\n",
       "</table>\n",
       "</div>"
      ],
      "text/plain": [
       "                business_id           name             address     city state  \\\n",
       "90   Ieelu69Y23nbjKG3OGfwnw     McDonald's      5017 Hwy 290 W   Austin    TX   \n",
       "116  PP4IjZwLwBqFT3AlnEhajw        Wendy's   69 Newbury Street  Peabody    MA   \n",
       "120  aoH2NWs312ES--8bJTDJEw     McDonald's        127 Broadway   Saugus    MA   \n",
       "131  eOnMGfoj3YOxGPDjrDE-sg  Panda Express    2501 W Parmer Ln   Austin    TX   \n",
       "137  BICRl8FOudjjloh1kc9Glw        Wendy's  4051 Millenia Blvd  Orlando    FL   \n",
       "\n",
       "    postal_code   latitude  longitude  stars  review_count  is_open  \\\n",
       "90        78735  30.232133 -97.823183    1.5             9        1   \n",
       "116       01960  42.527216 -70.993617    1.5            35        1   \n",
       "120       01906  42.495702 -71.016722    3.0            27        1   \n",
       "131       78727  30.418382 -97.701975    2.0            56        1   \n",
       "137       32839  28.491336 -81.428778    4.0            25        1   \n",
       "\n",
       "                                                                                                                                                                                                                                                                                                                                                                                                                                                                                                                                                                                                                                                                                                                                                                                                                                                                     attributes  \\\n",
       "90                                                                                                                                                                                                                                                                                                                                         {'RestaurantsTakeOut': 'True', 'RestaurantsReservations': 'False', 'BusinessAcceptsCreditCards': 'True', 'GoodForKids': 'True', 'RestaurantsGoodForGroups': 'True', 'OutdoorSeating': 'True', 'RestaurantsAttire': \"'casual'\", 'Ambience': \"{'romantic': False, 'intimate': False, 'classy': False, 'hipster': False, 'divey': False, 'touristy': False, 'trendy': False, 'upscale': False, 'casual': False}\", 'WiFi': \"'free'\", 'HasTV': 'True', 'RestaurantsPriceRange2': '1', 'RestaurantsDelivery': 'True', 'DriveThru': 'True'}   \n",
       "116                         {'RestaurantsGoodForGroups': 'True', 'BusinessAcceptsCreditCards': 'True', 'Alcohol': \"u'none'\", 'NoiseLevel': \"'average'\", 'RestaurantsReservations': 'False', 'BikeParking': 'False', 'RestaurantsAttire': \"u'casual'\", 'GoodForKids': 'True', 'RestaurantsTakeOut': 'True', 'BusinessParking': \"{'garage': False, 'street': False, 'validated': False, 'lot': True, 'valet': False}\", 'OutdoorSeating': 'False', 'Caters': 'False', 'RestaurantsDelivery': 'True', 'WiFi': \"'free'\", 'RestaurantsPriceRange2': '1', 'GoodForMeal': \"{'dessert': False, 'latenight': True, 'lunch': True, 'dinner': True, 'brunch': False, 'breakfast': False}\", 'Ambience': \"{'touristy': False, 'hipster': False, 'romantic': False, 'divey': False, 'intimate': False, 'trendy': False, 'upscale': False, 'classy': False, 'casual': False}\", 'HasTV': 'True'}   \n",
       "120                                                                                                                                                        {'RestaurantsReservations': 'False', 'GoodForKids': 'True', 'WiFi': \"u'free'\", 'RestaurantsGoodForGroups': 'True', 'BusinessParking': \"{'garage': False, 'street': False, 'validated': False, 'lot': True, 'valet': False}\", 'RestaurantsPriceRange2': '1', 'Alcohol': \"'none'\", 'OutdoorSeating': 'False', 'RestaurantsTakeOut': 'True', 'RestaurantsAttire': \"'casual'\", 'Caters': 'False', 'HasTV': 'True', 'BusinessAcceptsCreditCards': 'True', 'Ambience': \"{'romantic': False, 'intimate': False, 'touristy': False, 'hipster': False, 'divey': False, 'classy': False, 'trendy': False, 'upscale': False, 'casual': False}\", 'NoiseLevel': \"u'average'\", 'RestaurantsDelivery': 'True', 'DriveThru': 'True'}   \n",
       "131     {'BusinessAcceptsCreditCards': 'True', 'GoodForKids': 'True', 'RestaurantsTakeOut': 'True', 'Caters': 'True', 'RestaurantsReservations': 'False', 'RestaurantsPriceRange2': '1', 'NoiseLevel': \"'average'\", 'RestaurantsAttire': \"'casual'\", 'OutdoorSeating': 'False', 'BikeParking': 'True', 'Ambience': \"{'touristy': False, 'hipster': False, 'romantic': False, 'divey': False, 'intimate': False, 'trendy': False, 'upscale': False, 'classy': False, 'casual': False}\", 'RestaurantsDelivery': 'True', 'RestaurantsGoodForGroups': 'True', 'Alcohol': \"'none'\", 'BusinessParking': \"{'garage': False, 'street': False, 'validated': False, 'lot': False, 'valet': False}\", 'GoodForMeal': \"{'dessert': False, 'latenight': False, 'lunch': True, 'dinner': False, 'brunch': False, 'breakfast': False}\", 'DriveThru': 'False', 'HasTV': 'True', 'WiFi': \"u'no'\"}   \n",
       "137  {'RestaurantsTakeOut': 'True', 'Alcohol': \"u'none'\", 'BusinessAcceptsCreditCards': 'True', 'RestaurantsAttire': \"u'casual'\", 'RestaurantsReservations': 'False', 'RestaurantsGoodForGroups': 'True', 'GoodForKids': 'True', 'Ambience': \"{'touristy': False, 'hipster': False, 'romantic': False, 'divey': False, 'intimate': False, 'trendy': False, 'upscale': False, 'classy': False, 'casual': False}\", 'RestaurantsPriceRange2': '1', 'OutdoorSeating': 'False', 'WiFi': \"'free'\", 'NoiseLevel': \"u'average'\", 'BikeParking': 'False', 'Caters': 'False', 'BusinessParking': \"{'garage': False, 'street': None, 'validated': False, 'lot': True, 'valet': False}\", 'DriveThru': 'True', 'GoodForMeal': \"{'dessert': False, 'latenight': False, 'lunch': True, 'dinner': False, 'brunch': False, 'breakfast': False}\", 'RestaurantsDelivery': 'True', 'HasTV': 'True'}   \n",
       "\n",
       "                                              categories  \\\n",
       "90   Restaurants, Coffee & Tea, Food, Burgers, Fast Food   \n",
       "116                      Restaurants, Burgers, Fast Food   \n",
       "120  Coffee & Tea, Fast Food, Restaurants, Food, Burgers   \n",
       "131                Food, Fast Food, Chinese, Restaurants   \n",
       "137                      Restaurants, Burgers, Fast Food   \n",
       "\n",
       "                                                                                                                                                                                       hours  \n",
       "90                 {'Monday': '7:0-22:30', 'Tuesday': '7:0-22:30', 'Wednesday': '7:0-22:30', 'Thursday': '7:0-22:30', 'Friday': '7:0-23:30', 'Saturday': '7:0-23:30', 'Sunday': '7:0-22:30'}  \n",
       "116                       {'Monday': '10:0-2:0', 'Tuesday': '10:0-2:0', 'Wednesday': '10:0-2:0', 'Thursday': '10:0-2:0', 'Friday': '10:0-3:0', 'Saturday': '10:0-3:0', 'Sunday': '10:0-2:0'}  \n",
       "120                         {'Monday': '6:0-23:0', 'Tuesday': '6:0-23:0', 'Wednesday': '6:0-23:0', 'Thursday': '6:0-23:0', 'Friday': '6:0-0:0', 'Saturday': '6:0-0:0', 'Sunday': '6:0-23:0'}  \n",
       "131  {'Monday': '10:30-21:30', 'Tuesday': '10:30-21:30', 'Wednesday': '10:30-21:30', 'Thursday': '10:30-21:30', 'Friday': '10:30-21:30', 'Saturday': '10:30-21:30', 'Sunday': '10:30-21:30'}  \n",
       "137                              {'Monday': '9:0-2:0', 'Tuesday': '9:0-2:0', 'Wednesday': '9:0-2:0', 'Thursday': '9:0-2:0', 'Friday': '9:0-2:0', 'Saturday': '9:0-2:0', 'Sunday': '9:0-2:0'}  "
      ]
     },
     "metadata": {},
     "output_type": "display_data"
    }
   ],
   "source": [
    "# 查看有幾筆資料重複，發現重複的都是連鎖餐飲\n",
    "display(restaurants['name'].duplicated().sum())\n",
    "display(restaurants[restaurants['name'].duplicated()].head())"
   ]
  },
  {
   "cell_type": "code",
   "execution_count": 6,
   "id": "7f07ad01",
   "metadata": {
    "scrolled": true
   },
   "outputs": [
    {
     "data": {
      "text/plain": [
       "440"
      ]
     },
     "metadata": {},
     "output_type": "display_data"
    },
    {
     "data": {
      "text/html": [
       "<div>\n",
       "<style scoped>\n",
       "    .dataframe tbody tr th:only-of-type {\n",
       "        vertical-align: middle;\n",
       "    }\n",
       "\n",
       "    .dataframe tbody tr th {\n",
       "        vertical-align: top;\n",
       "    }\n",
       "\n",
       "    .dataframe thead th {\n",
       "        text-align: right;\n",
       "    }\n",
       "</style>\n",
       "<table border=\"1\" class=\"dataframe\">\n",
       "  <thead>\n",
       "    <tr style=\"text-align: right;\">\n",
       "      <th></th>\n",
       "      <th>business_id</th>\n",
       "      <th>name</th>\n",
       "      <th>address</th>\n",
       "      <th>city</th>\n",
       "      <th>state</th>\n",
       "      <th>postal_code</th>\n",
       "      <th>latitude</th>\n",
       "      <th>longitude</th>\n",
       "      <th>stars</th>\n",
       "      <th>review_count</th>\n",
       "      <th>is_open</th>\n",
       "      <th>attributes</th>\n",
       "      <th>categories</th>\n",
       "      <th>hours</th>\n",
       "    </tr>\n",
       "  </thead>\n",
       "  <tbody>\n",
       "    <tr>\n",
       "      <th>33</th>\n",
       "      <td>HMXiuCxHDXqMH1hBpaHd9g</td>\n",
       "      <td>Whole Time Chicken</td>\n",
       "      <td>NaN</td>\n",
       "      <td>Portland</td>\n",
       "      <td>OR</td>\n",
       "      <td>97215</td>\n",
       "      <td>45.516241</td>\n",
       "      <td>-122.597527</td>\n",
       "      <td>5.0</td>\n",
       "      <td>7</td>\n",
       "      <td>0</td>\n",
       "      <td>{'OutdoorSeating': 'True', 'RestaurantsTableService': 'False', 'HasTV': 'False', 'GoodForKids': 'True', 'RestaurantsPriceRange2': '1', 'BusinessAcceptsCreditCards': 'True', 'RestaurantsGoodForGroups': 'True', 'RestaurantsAttire': \"'casual'\", 'RestaurantsReservations': 'False', 'RestaurantsTakeOut': 'True', 'RestaurantsDelivery': 'False'}</td>\n",
       "      <td>Food Stands, Restaurants, Sandwiches</td>\n",
       "      <td>{'Monday': '11:0-20:0', 'Tuesday': '11:0-20:0', 'Wednesday': '11:0-20:0', 'Thursday': '11:0-20:0', 'Friday': '11:0-2:30', 'Saturday': '11:0-2:30', 'Sunday': '12:0-20:0'}</td>\n",
       "    </tr>\n",
       "    <tr>\n",
       "      <th>135</th>\n",
       "      <td>owJ_0-9YBYfy40YD7l_KSA</td>\n",
       "      <td>Texas Chili Queens</td>\n",
       "      <td>NaN</td>\n",
       "      <td>Austin</td>\n",
       "      <td>TX</td>\n",
       "      <td>78701</td>\n",
       "      <td>30.272921</td>\n",
       "      <td>-97.744386</td>\n",
       "      <td>4.0</td>\n",
       "      <td>41</td>\n",
       "      <td>0</td>\n",
       "      <td>{'BikeParking': 'True', 'Alcohol': \"u'none'\", 'BusinessAcceptsCreditCards': 'True', 'GoodForMeal': \"{'dessert': False, 'latenight': False, 'lunch': False, 'dinner': False, 'brunch': False, 'breakfast': False}\", 'Ambience': \"{'touristy': False, 'hipster': False, 'romantic': False, 'divey': False, 'intimate': False, 'trendy': False, 'upscale': False, 'classy': False, 'casual': False}\", 'RestaurantsPriceRange2': '2', 'RestaurantsDelivery': 'False', 'RestaurantsTakeOut': 'True', 'Caters': 'True', 'WheelchairAccessible': 'True'}</td>\n",
       "      <td>Restaurants, Food Trucks, American (Traditional), Food</td>\n",
       "      <td>NaN</td>\n",
       "    </tr>\n",
       "    <tr>\n",
       "      <th>176</th>\n",
       "      <td>n9E36A6-eZEaZ4C_iJByHw</td>\n",
       "      <td>Daddy's Dogs</td>\n",
       "      <td>NaN</td>\n",
       "      <td>Nantasket Beach</td>\n",
       "      <td>MA</td>\n",
       "      <td>02045</td>\n",
       "      <td>42.291766</td>\n",
       "      <td>-70.874490</td>\n",
       "      <td>2.0</td>\n",
       "      <td>8</td>\n",
       "      <td>1</td>\n",
       "      <td>{'NoiseLevel': \"u'loud'\", 'HasTV': 'True', 'RestaurantsTakeOut': 'True', 'Alcohol': \"u'full_bar'\", 'RestaurantsAttire': \"u'formal'\", 'RestaurantsDelivery': 'True', 'Caters': 'False', 'WiFi': \"'no'\", 'GoodForKids': 'True', 'BikeParking': 'True', 'RestaurantsReservations': 'True', 'RestaurantsGoodForGroups': 'True', 'RestaurantsPriceRange2': '2', 'BusinessAcceptsCreditCards': 'True', 'BusinessParking': \"{'garage': False, 'street': False, 'validated': False, 'lot': False, 'valet': False}\", 'OutdoorSeating': 'True', 'Ambience': \"{'romantic': False, 'intimate': False, 'touristy': False, 'hipster': False, 'divey': False, 'classy': False, 'trendy': False, 'upscale': False, 'casual': False}\", 'GoodForMeal': \"{'dessert': False, 'latenight': False, 'lunch': False, 'dinner': False, 'brunch': False, 'breakfast': False}\"}</td>\n",
       "      <td>Burgers, Hot Dogs, Restaurants</td>\n",
       "      <td>NaN</td>\n",
       "    </tr>\n",
       "    <tr>\n",
       "      <th>350</th>\n",
       "      <td>96RV4GvZdPahV-brg3hnOQ</td>\n",
       "      <td>The North End</td>\n",
       "      <td>NaN</td>\n",
       "      <td>Boston</td>\n",
       "      <td>MA</td>\n",
       "      <td>02455</td>\n",
       "      <td>42.363618</td>\n",
       "      <td>-71.054721</td>\n",
       "      <td>4.5</td>\n",
       "      <td>106</td>\n",
       "      <td>1</td>\n",
       "      <td>{'BusinessAcceptsCreditCards': 'True', 'WiFi': \"'no'\", 'RestaurantsPriceRange2': '2', 'Alcohol': \"'none'\", 'BikeParking': 'True', 'GoodForKids': 'True', 'RestaurantsAttire': \"'casual'\", 'OutdoorSeating': 'True', 'BusinessParking': \"{'garage': False, 'street': True, 'validated': False, 'lot': False, 'valet': False}\", 'HasTV': 'True', 'RestaurantsReservations': 'True', 'RestaurantsTakeOut': 'True', 'RestaurantsDelivery': 'True', 'RestaurantsGoodForGroups': 'True', 'Ambience': \"{'romantic': False, 'intimate': False, 'classy': False, 'hipster': False, 'divey': False, 'touristy': False, 'trendy': False, 'upscale': False, 'casual': True}\"}</td>\n",
       "      <td>Landmarks &amp; Historical Buildings, Local Flavor, Italian, Public Services &amp; Government, Restaurants</td>\n",
       "      <td>NaN</td>\n",
       "    </tr>\n",
       "    <tr>\n",
       "      <th>355</th>\n",
       "      <td>gyAHbL5C5jdrR8y8tzaC5Q</td>\n",
       "      <td>MrBeast Burger</td>\n",
       "      <td>NaN</td>\n",
       "      <td>Newton</td>\n",
       "      <td>MA</td>\n",
       "      <td>02458</td>\n",
       "      <td>42.358572</td>\n",
       "      <td>-71.185244</td>\n",
       "      <td>1.0</td>\n",
       "      <td>6</td>\n",
       "      <td>1</td>\n",
       "      <td>{'RestaurantsDelivery': 'True'}</td>\n",
       "      <td>Burgers, Food Delivery Services, Restaurants, Food</td>\n",
       "      <td>NaN</td>\n",
       "    </tr>\n",
       "  </tbody>\n",
       "</table>\n",
       "</div>"
      ],
      "text/plain": [
       "                business_id                name address             city  \\\n",
       "33   HMXiuCxHDXqMH1hBpaHd9g  Whole Time Chicken     NaN         Portland   \n",
       "135  owJ_0-9YBYfy40YD7l_KSA  Texas Chili Queens     NaN           Austin   \n",
       "176  n9E36A6-eZEaZ4C_iJByHw        Daddy's Dogs     NaN  Nantasket Beach   \n",
       "350  96RV4GvZdPahV-brg3hnOQ       The North End     NaN           Boston   \n",
       "355  gyAHbL5C5jdrR8y8tzaC5Q      MrBeast Burger     NaN           Newton   \n",
       "\n",
       "    state postal_code   latitude   longitude  stars  review_count  is_open  \\\n",
       "33     OR       97215  45.516241 -122.597527    5.0             7        0   \n",
       "135    TX       78701  30.272921  -97.744386    4.0            41        0   \n",
       "176    MA       02045  42.291766  -70.874490    2.0             8        1   \n",
       "350    MA       02455  42.363618  -71.054721    4.5           106        1   \n",
       "355    MA       02458  42.358572  -71.185244    1.0             6        1   \n",
       "\n",
       "                                                                                                                                                                                                                                                                                                                                                                                                                                                                                                                                                                                                                                                                                                                                                                                                                                               attributes  \\\n",
       "33                                                                                                                                                                                                                                                                                                                                                                                                                                                                                                    {'OutdoorSeating': 'True', 'RestaurantsTableService': 'False', 'HasTV': 'False', 'GoodForKids': 'True', 'RestaurantsPriceRange2': '1', 'BusinessAcceptsCreditCards': 'True', 'RestaurantsGoodForGroups': 'True', 'RestaurantsAttire': \"'casual'\", 'RestaurantsReservations': 'False', 'RestaurantsTakeOut': 'True', 'RestaurantsDelivery': 'False'}   \n",
       "135                                                                                                                                                                                                                                                                                                     {'BikeParking': 'True', 'Alcohol': \"u'none'\", 'BusinessAcceptsCreditCards': 'True', 'GoodForMeal': \"{'dessert': False, 'latenight': False, 'lunch': False, 'dinner': False, 'brunch': False, 'breakfast': False}\", 'Ambience': \"{'touristy': False, 'hipster': False, 'romantic': False, 'divey': False, 'intimate': False, 'trendy': False, 'upscale': False, 'classy': False, 'casual': False}\", 'RestaurantsPriceRange2': '2', 'RestaurantsDelivery': 'False', 'RestaurantsTakeOut': 'True', 'Caters': 'True', 'WheelchairAccessible': 'True'}   \n",
       "176  {'NoiseLevel': \"u'loud'\", 'HasTV': 'True', 'RestaurantsTakeOut': 'True', 'Alcohol': \"u'full_bar'\", 'RestaurantsAttire': \"u'formal'\", 'RestaurantsDelivery': 'True', 'Caters': 'False', 'WiFi': \"'no'\", 'GoodForKids': 'True', 'BikeParking': 'True', 'RestaurantsReservations': 'True', 'RestaurantsGoodForGroups': 'True', 'RestaurantsPriceRange2': '2', 'BusinessAcceptsCreditCards': 'True', 'BusinessParking': \"{'garage': False, 'street': False, 'validated': False, 'lot': False, 'valet': False}\", 'OutdoorSeating': 'True', 'Ambience': \"{'romantic': False, 'intimate': False, 'touristy': False, 'hipster': False, 'divey': False, 'classy': False, 'trendy': False, 'upscale': False, 'casual': False}\", 'GoodForMeal': \"{'dessert': False, 'latenight': False, 'lunch': False, 'dinner': False, 'brunch': False, 'breakfast': False}\"}   \n",
       "350                                                                                                                                                                                     {'BusinessAcceptsCreditCards': 'True', 'WiFi': \"'no'\", 'RestaurantsPriceRange2': '2', 'Alcohol': \"'none'\", 'BikeParking': 'True', 'GoodForKids': 'True', 'RestaurantsAttire': \"'casual'\", 'OutdoorSeating': 'True', 'BusinessParking': \"{'garage': False, 'street': True, 'validated': False, 'lot': False, 'valet': False}\", 'HasTV': 'True', 'RestaurantsReservations': 'True', 'RestaurantsTakeOut': 'True', 'RestaurantsDelivery': 'True', 'RestaurantsGoodForGroups': 'True', 'Ambience': \"{'romantic': False, 'intimate': False, 'classy': False, 'hipster': False, 'divey': False, 'touristy': False, 'trendy': False, 'upscale': False, 'casual': True}\"}   \n",
       "355                                                                                                                                                                                                                                                                                                                                                                                                                                                                                                                                                                                                                                                                                                                                                                                                                       {'RestaurantsDelivery': 'True'}   \n",
       "\n",
       "                                                                                             categories  \\\n",
       "33                                                                 Food Stands, Restaurants, Sandwiches   \n",
       "135                                              Restaurants, Food Trucks, American (Traditional), Food   \n",
       "176                                                                      Burgers, Hot Dogs, Restaurants   \n",
       "350  Landmarks & Historical Buildings, Local Flavor, Italian, Public Services & Government, Restaurants   \n",
       "355                                                  Burgers, Food Delivery Services, Restaurants, Food   \n",
       "\n",
       "                                                                                                                                                                         hours  \n",
       "33   {'Monday': '11:0-20:0', 'Tuesday': '11:0-20:0', 'Wednesday': '11:0-20:0', 'Thursday': '11:0-20:0', 'Friday': '11:0-2:30', 'Saturday': '11:0-2:30', 'Sunday': '12:0-20:0'}  \n",
       "135                                                                                                                                                                        NaN  \n",
       "176                                                                                                                                                                        NaN  \n",
       "350                                                                                                                                                                        NaN  \n",
       "355                                                                                                                                                                        NaN  "
      ]
     },
     "metadata": {},
     "output_type": "display_data"
    }
   ],
   "source": [
    "# 查看有幾筆餐廳資料的地址是null\n",
    "display(restaurants['address'].isnull().sum())\n",
    "display(restaurants[restaurants['address'].isnull()].head())"
   ]
  },
  {
   "cell_type": "markdown",
   "id": "5530bd3e",
   "metadata": {},
   "source": [
    "### Get all of restaurants in Portland "
   ]
  },
  {
   "cell_type": "code",
   "execution_count": 7,
   "id": "e283bd6c",
   "metadata": {
    "scrolled": false
   },
   "outputs": [
    {
     "data": {
      "text/plain": [
       "5730"
      ]
     },
     "execution_count": 7,
     "metadata": {},
     "output_type": "execute_result"
    }
   ],
   "source": [
    "Portland = restaurants[restaurants['city']=='Portland'].reset_index(drop=True)\n",
    "len(Portland)"
   ]
  },
  {
   "cell_type": "code",
   "execution_count": 8,
   "id": "a745e8f7",
   "metadata": {
    "scrolled": true
   },
   "outputs": [
    {
     "data": {
      "text/plain": [
       "47"
      ]
     },
     "execution_count": 8,
     "metadata": {},
     "output_type": "execute_result"
    }
   ],
   "source": [
    "len(Portland[Portland['address'].isnull()])"
   ]
  },
  {
   "cell_type": "code",
   "execution_count": 9,
   "id": "1e9cc0b6",
   "metadata": {
    "scrolled": true
   },
   "outputs": [
    {
     "data": {
      "text/plain": [
       "5683"
      ]
     },
     "execution_count": 9,
     "metadata": {},
     "output_type": "execute_result"
    }
   ],
   "source": [
    "Portland = Portland.dropna(subset=['address']).reset_index(drop=True)\n",
    "len(Portland)"
   ]
  },
  {
   "cell_type": "code",
   "execution_count": 10,
   "id": "590b8209",
   "metadata": {},
   "outputs": [
    {
     "data": {
      "text/plain": [
       "5677"
      ]
     },
     "execution_count": 10,
     "metadata": {},
     "output_type": "execute_result"
    }
   ],
   "source": [
    "ls = [\"Safeway\", \"Hongs Restaurant Equipment & Supplies\", \"Living Health\"]\n",
    "\n",
    "for i in ls:\n",
    "    Portland = Portland.drop(Portland[Portland['name']==i].index)\n",
    "\n",
    "Portland = Portland.reset_index(drop=True)\n",
    "len(Portland)"
   ]
  },
  {
   "cell_type": "code",
   "execution_count": 11,
   "id": "8083750d",
   "metadata": {},
   "outputs": [],
   "source": [
    "Portland.to_json('Dataset/Done/portland.json', orient=\"records\")"
   ]
  },
  {
   "cell_type": "markdown",
   "id": "edab9dfc",
   "metadata": {},
   "source": [
    "# Reviews"
   ]
  },
  {
   "cell_type": "code",
   "execution_count": 4,
   "id": "f07b8b61",
   "metadata": {
    "scrolled": true
   },
   "outputs": [
    {
     "data": {
      "text/plain": [
       "Index(['business_id', 'review_id', 'user_id', 'stars', 'useful', 'funny',\n",
       "       'cool', 'text', 'date'],\n",
       "      dtype='object')"
      ]
     },
     "metadata": {},
     "output_type": "display_data"
    }
   ],
   "source": [
    "reviews = pd.read_csv(\"Dataset/Done/reviews.csv\", sep=',')\n",
    "display(reviews.keys())\n",
    "#reviews.head()"
   ]
  },
  {
   "cell_type": "code",
   "execution_count": 5,
   "id": "334b1b30",
   "metadata": {
    "scrolled": true
   },
   "outputs": [
    {
     "data": {
      "text/html": [
       "<div>\n",
       "<style scoped>\n",
       "    .dataframe tbody tr th:only-of-type {\n",
       "        vertical-align: middle;\n",
       "    }\n",
       "\n",
       "    .dataframe tbody tr th {\n",
       "        vertical-align: top;\n",
       "    }\n",
       "\n",
       "    .dataframe thead th {\n",
       "        text-align: right;\n",
       "    }\n",
       "</style>\n",
       "<table border=\"1\" class=\"dataframe\">\n",
       "  <thead>\n",
       "    <tr style=\"text-align: right;\">\n",
       "      <th></th>\n",
       "      <th>business_id</th>\n",
       "      <th>review_id</th>\n",
       "      <th>user_id</th>\n",
       "      <th>stars</th>\n",
       "      <th>useful</th>\n",
       "      <th>funny</th>\n",
       "      <th>cool</th>\n",
       "      <th>text</th>\n",
       "      <th>date</th>\n",
       "    </tr>\n",
       "  </thead>\n",
       "  <tbody>\n",
       "    <tr>\n",
       "      <th>0</th>\n",
       "      <td>6iYb2HFDywm3zjuRg0shjw</td>\n",
       "      <td>bkHUOCicGZ856vpvcWuW7Q</td>\n",
       "      <td>93z0yh-sUpGZS-cSKu6xxA</td>\n",
       "      <td>5</td>\n",
       "      <td>1</td>\n",
       "      <td>0</td>\n",
       "      <td>0</td>\n",
       "      <td>Stopped in on a busy Friday night. Despite the crowd, the service was expedient and warm. \\n\\nThe beers here speak for themselves, so we sampled some of their taproom only offerings, and the galaxy smash was clean, tropical and sessionable.\\n\\nThis being said, the real star of this place is the pizza. It's a hand tossed style crust, that's the perfect mix of crispy and doughy. We ordered the special pizza (luau- bacon, pineapple and fresh jalapeño), and it was the perfect mix of fat, sweetness and heat. \\n\\nIf you're looking for a comfortable spot to grab a beer, and share some food with some friends on pearl, this is the place!</td>\n",
       "      <td>2018-03-04 00:59:21</td>\n",
       "    </tr>\n",
       "    <tr>\n",
       "      <th>1</th>\n",
       "      <td>6iYb2HFDywm3zjuRg0shjw</td>\n",
       "      <td>VKBc48PPwyWIUE1RhBT_8A</td>\n",
       "      <td>Q_CZIvnsDHjpls-EPzzG7Q</td>\n",
       "      <td>2</td>\n",
       "      <td>0</td>\n",
       "      <td>0</td>\n",
       "      <td>0</td>\n",
       "      <td>Went there about 1 PM on a Monday.  It wasn't particularly busy, and we were seated quickly.  Our drink order was taken promptly, one coke and one beer, and we didn't see our server again for 10 minutes.  I believe it was the bartender who finally brought the beer, but didn't get the coke. He then brought our second drink a few minutes later.  When we did see our server, she was  taking an order at another table, and then 5 minutes later brought those people their drinks.  Didn't see her again for another 5 minutes when she finally came back to take our order.  At that point we were more than 20 minutes into this place, and decided it wasn't worth any more waiting so we put a few bucks down and got up and left.  Very poor service.  No idea how the food is since we didn't even get our order in.  Only about the second place I had to walk out of due to extremely poor service.</td>\n",
       "      <td>2018-08-14 05:22:00</td>\n",
       "    </tr>\n",
       "    <tr>\n",
       "      <th>2</th>\n",
       "      <td>6iYb2HFDywm3zjuRg0shjw</td>\n",
       "      <td>JKNv1l7JgayZjG6nK__hXQ</td>\n",
       "      <td>rqxTSFFj5fZNmabY1fmTlw</td>\n",
       "      <td>5</td>\n",
       "      <td>0</td>\n",
       "      <td>0</td>\n",
       "      <td>0</td>\n",
       "      <td>This was the place the be on Friday Night! If you're looking for the best French Onion Soup in Boulder, paired with the best craft beer selection on Pearl Street. Go. Go now!</td>\n",
       "      <td>2018-03-17 14:22:48</td>\n",
       "    </tr>\n",
       "    <tr>\n",
       "      <th>3</th>\n",
       "      <td>6iYb2HFDywm3zjuRg0shjw</td>\n",
       "      <td>WNM_Oyzy6mB6n0Z9lcuZyQ</td>\n",
       "      <td>vNPxlt5f50q0e2nVAScW3Q</td>\n",
       "      <td>4</td>\n",
       "      <td>0</td>\n",
       "      <td>0</td>\n",
       "      <td>0</td>\n",
       "      <td>Went to this place with my family over the weekend after a hike in Boulder and it was really nice. Their patio is perfect for bringing your dog (you cannot have the dog on the patio but you can have them tied up on the other side and still have them very close to you) and also nice and big so there is lots of room on a beautiful, sunny day. Beers on tap were super cheap and they brought out samples when we weren't sure what to order. Wait staff was attentive. Everyone enjoyed their food but there was nothing special about it- typical brewery food.</td>\n",
       "      <td>2018-04-04 21:16:50</td>\n",
       "    </tr>\n",
       "    <tr>\n",
       "      <th>4</th>\n",
       "      <td>6iYb2HFDywm3zjuRg0shjw</td>\n",
       "      <td>jG4gZz5FrHyItJXz1YV9Sw</td>\n",
       "      <td>eXRC79iX60xwA1UuGRuWNg</td>\n",
       "      <td>4</td>\n",
       "      <td>0</td>\n",
       "      <td>0</td>\n",
       "      <td>0</td>\n",
       "      <td>Stopped on a midweek afternoon, and so glad that I did! One of the newer additions to the West End of Pearl Street, and it turns out to be a superb place to get a burger! Have been to the original Oskar Blues also, didn't disappoint. Lot of space to enjoy the restaurant and bar, plenty of indoor booths and tables, plenty of outside seating. Good atmosphere, some really fun items on the walls, and multiple giant screen televisions to stay on top of the latest games. Really appreciated the customer service from my server, Phoebe, who knew the menu, was extremely positive and professional, and could not have been better. Quick service, attention to detail. Loved my burger, cooked exactly as I requested, and the tater tots are so darn good. Liked their multiple in-house beverage options, had a great root beer! I'll definitely return!</td>\n",
       "      <td>2018-04-28 19:17:04</td>\n",
       "    </tr>\n",
       "  </tbody>\n",
       "</table>\n",
       "</div>"
      ],
      "text/plain": [
       "              business_id               review_id                 user_id  \\\n",
       "0  6iYb2HFDywm3zjuRg0shjw  bkHUOCicGZ856vpvcWuW7Q  93z0yh-sUpGZS-cSKu6xxA   \n",
       "1  6iYb2HFDywm3zjuRg0shjw  VKBc48PPwyWIUE1RhBT_8A  Q_CZIvnsDHjpls-EPzzG7Q   \n",
       "2  6iYb2HFDywm3zjuRg0shjw  JKNv1l7JgayZjG6nK__hXQ  rqxTSFFj5fZNmabY1fmTlw   \n",
       "3  6iYb2HFDywm3zjuRg0shjw  WNM_Oyzy6mB6n0Z9lcuZyQ  vNPxlt5f50q0e2nVAScW3Q   \n",
       "4  6iYb2HFDywm3zjuRg0shjw  jG4gZz5FrHyItJXz1YV9Sw  eXRC79iX60xwA1UuGRuWNg   \n",
       "\n",
       "   stars  useful  funny  cool  \\\n",
       "0      5       1      0     0   \n",
       "1      2       0      0     0   \n",
       "2      5       0      0     0   \n",
       "3      4       0      0     0   \n",
       "4      4       0      0     0   \n",
       "\n",
       "                                                                                                                                                                                                                                                                                                                                                                                                                                                                                                                                                                                                                                                                                                                                                                                                                                                                                                                    text  \\\n",
       "0                                                                                                                                                                                                                                                           Stopped in on a busy Friday night. Despite the crowd, the service was expedient and warm. \\n\\nThe beers here speak for themselves, so we sampled some of their taproom only offerings, and the galaxy smash was clean, tropical and sessionable.\\n\\nThis being said, the real star of this place is the pizza. It's a hand tossed style crust, that's the perfect mix of crispy and doughy. We ordered the special pizza (luau- bacon, pineapple and fresh jalapeño), and it was the perfect mix of fat, sweetness and heat. \\n\\nIf you're looking for a comfortable spot to grab a beer, and share some food with some friends on pearl, this is the place!   \n",
       "1  Went there about 1 PM on a Monday.  It wasn't particularly busy, and we were seated quickly.  Our drink order was taken promptly, one coke and one beer, and we didn't see our server again for 10 minutes.  I believe it was the bartender who finally brought the beer, but didn't get the coke. He then brought our second drink a few minutes later.  When we did see our server, she was  taking an order at another table, and then 5 minutes later brought those people their drinks.  Didn't see her again for another 5 minutes when she finally came back to take our order.  At that point we were more than 20 minutes into this place, and decided it wasn't worth any more waiting so we put a few bucks down and got up and left.  Very poor service.  No idea how the food is since we didn't even get our order in.  Only about the second place I had to walk out of due to extremely poor service.   \n",
       "2                                                                                                                                                                                                                                                                                                                                                                                                                                                                                                                                                                                                                                                                                                                                         This was the place the be on Friday Night! If you're looking for the best French Onion Soup in Boulder, paired with the best craft beer selection on Pearl Street. Go. Go now!   \n",
       "3                                                                                                                                                                                                                                                                                                                                              Went to this place with my family over the weekend after a hike in Boulder and it was really nice. Their patio is perfect for bringing your dog (you cannot have the dog on the patio but you can have them tied up on the other side and still have them very close to you) and also nice and big so there is lots of room on a beautiful, sunny day. Beers on tap were super cheap and they brought out samples when we weren't sure what to order. Wait staff was attentive. Everyone enjoyed their food but there was nothing special about it- typical brewery food.   \n",
       "4                                              Stopped on a midweek afternoon, and so glad that I did! One of the newer additions to the West End of Pearl Street, and it turns out to be a superb place to get a burger! Have been to the original Oskar Blues also, didn't disappoint. Lot of space to enjoy the restaurant and bar, plenty of indoor booths and tables, plenty of outside seating. Good atmosphere, some really fun items on the walls, and multiple giant screen televisions to stay on top of the latest games. Really appreciated the customer service from my server, Phoebe, who knew the menu, was extremely positive and professional, and could not have been better. Quick service, attention to detail. Loved my burger, cooked exactly as I requested, and the tater tots are so darn good. Liked their multiple in-house beverage options, had a great root beer! I'll definitely return!   \n",
       "\n",
       "                  date  \n",
       "0  2018-03-04 00:59:21  \n",
       "1  2018-08-14 05:22:00  \n",
       "2  2018-03-17 14:22:48  \n",
       "3  2018-04-04 21:16:50  \n",
       "4  2018-04-28 19:17:04  "
      ]
     },
     "execution_count": 5,
     "metadata": {},
     "output_type": "execute_result"
    }
   ],
   "source": [
    "reviews.head()"
   ]
  },
  {
   "cell_type": "code",
   "execution_count": 4,
   "id": "507be9c9",
   "metadata": {
    "scrolled": true
   },
   "outputs": [
    {
     "name": "stdout",
     "output_type": "stream",
     "text": [
      "最早評論時間: 2004-10-13 00:03:20\n",
      "最晚評論時間: 2021-01-28 15:38:54\n",
      "資料筆數: 5574794\n",
      "資料是否有重複: True\n",
      "資料是否有空值: False\n"
     ]
    }
   ],
   "source": [
    "print(\"最早評論時間: \" + reviews['date'].min())\n",
    "print(\"最晚評論時間: \" + reviews['date'].max())\n",
    "print(\"資料筆數: \" + str(len(reviews)))\n",
    "print(\"資料是否有重複: \" + str(reviews['text'].duplicated().any()))\n",
    "print(\"資料是否有空值: \" + str(reviews['text'].isnull().any()))"
   ]
  },
  {
   "cell_type": "markdown",
   "id": "4c04af98",
   "metadata": {},
   "source": [
    "#### 處理重複資料"
   ]
  },
  {
   "cell_type": "code",
   "execution_count": 5,
   "id": "fe2868c5",
   "metadata": {
    "scrolled": true
   },
   "outputs": [
    {
     "data": {
      "text/plain": [
       "11562"
      ]
     },
     "metadata": {},
     "output_type": "display_data"
    },
    {
     "data": {
      "text/html": [
       "<div>\n",
       "<style scoped>\n",
       "    .dataframe tbody tr th:only-of-type {\n",
       "        vertical-align: middle;\n",
       "    }\n",
       "\n",
       "    .dataframe tbody tr th {\n",
       "        vertical-align: top;\n",
       "    }\n",
       "\n",
       "    .dataframe thead th {\n",
       "        text-align: right;\n",
       "    }\n",
       "</style>\n",
       "<table border=\"1\" class=\"dataframe\">\n",
       "  <thead>\n",
       "    <tr style=\"text-align: right;\">\n",
       "      <th></th>\n",
       "      <th>business_id</th>\n",
       "      <th>review_id</th>\n",
       "      <th>user_id</th>\n",
       "      <th>stars</th>\n",
       "      <th>useful</th>\n",
       "      <th>funny</th>\n",
       "      <th>cool</th>\n",
       "      <th>text</th>\n",
       "      <th>date</th>\n",
       "    </tr>\n",
       "  </thead>\n",
       "  <tbody>\n",
       "    <tr>\n",
       "      <th>2767</th>\n",
       "      <td>LSmYTw4HvU0lDBK4Mg2KyQ</td>\n",
       "      <td>fTpbsW6ffivJFUcOpZ8xOg</td>\n",
       "      <td>aJVi9D3N-OFSWiEpS0MSEA</td>\n",
       "      <td>3</td>\n",
       "      <td>0</td>\n",
       "      <td>0</td>\n",
       "      <td>0</td>\n",
       "      <td>I give it four just because the food is amazing have yet to have a bad meal, chicken pot pie and Shepards pie unreal. The only downside is the red headed Irish waiter the guys an absolute miserable douchebag...bartenders are great to</td>\n",
       "      <td>2015-02-18 02:09:22</td>\n",
       "    </tr>\n",
       "    <tr>\n",
       "      <th>3023</th>\n",
       "      <td>J8Ha6yIvGoU-E31jnCq7Ew</td>\n",
       "      <td>FVC-TjUuvWvZ2bZTt9QwBA</td>\n",
       "      <td>PyBKkYmuUIMSAOm6XiouCg</td>\n",
       "      <td>5</td>\n",
       "      <td>0</td>\n",
       "      <td>0</td>\n",
       "      <td>0</td>\n",
       "      <td>Simply amazing. Enjoyed the chefs tasting with 6 friends had a great time and was really happy with the service, the waitress and the food. If I lived in the area this would be a non stop spot to hit up.</td>\n",
       "      <td>2017-04-20 14:32:23</td>\n",
       "    </tr>\n",
       "    <tr>\n",
       "      <th>10999</th>\n",
       "      <td>U9lrX8Nviajz-74dF6zL7g</td>\n",
       "      <td>vsqd3pzHrUWhQqNHb27fOA</td>\n",
       "      <td>XB6cX5MGofH-I73X6o7f-Q</td>\n",
       "      <td>5</td>\n",
       "      <td>3</td>\n",
       "      <td>1</td>\n",
       "      <td>0</td>\n",
       "      <td>I haven't went there and years and me and my family had an amazing time we went it was our first time back in over 15 years roller coasters are a great upgrade and my kids love them as well</td>\n",
       "      <td>2015-04-30 23:46:17</td>\n",
       "    </tr>\n",
       "    <tr>\n",
       "      <th>12717</th>\n",
       "      <td>4CApB_GqrraGweVr1FZtfQ</td>\n",
       "      <td>IEqMK5ftpxscA8fQCo51zQ</td>\n",
       "      <td>SeWjOuBWjNQz_d-tzUhicg</td>\n",
       "      <td>5</td>\n",
       "      <td>0</td>\n",
       "      <td>0</td>\n",
       "      <td>0</td>\n",
       "      <td>Easy 10/10 for El Primo. The food was outstanding. So delicious. We tried the migas tacos and a chicken torta. Our new go-to place for tacos. Genuinely nice people, great service, and delicious food.</td>\n",
       "      <td>2018-04-28 17:57:50</td>\n",
       "    </tr>\n",
       "    <tr>\n",
       "      <th>13580</th>\n",
       "      <td>tG-noZMPf8yr3fJF2YXnKA</td>\n",
       "      <td>_OeBXjtrxVJuoHQ_qABX1A</td>\n",
       "      <td>wI-GpeZPIoqhSi9OoLOylg</td>\n",
       "      <td>5</td>\n",
       "      <td>1</td>\n",
       "      <td>0</td>\n",
       "      <td>0</td>\n",
       "      <td>The best cafe ever . fresh food and super clean place . fresh fruit smoothies and fresh baked pastries everyday with a fantastic coffee</td>\n",
       "      <td>2017-01-30 14:07:46</td>\n",
       "    </tr>\n",
       "  </tbody>\n",
       "</table>\n",
       "</div>"
      ],
      "text/plain": [
       "                  business_id               review_id                 user_id  \\\n",
       "2767   LSmYTw4HvU0lDBK4Mg2KyQ  fTpbsW6ffivJFUcOpZ8xOg  aJVi9D3N-OFSWiEpS0MSEA   \n",
       "3023   J8Ha6yIvGoU-E31jnCq7Ew  FVC-TjUuvWvZ2bZTt9QwBA  PyBKkYmuUIMSAOm6XiouCg   \n",
       "10999  U9lrX8Nviajz-74dF6zL7g  vsqd3pzHrUWhQqNHb27fOA  XB6cX5MGofH-I73X6o7f-Q   \n",
       "12717  4CApB_GqrraGweVr1FZtfQ  IEqMK5ftpxscA8fQCo51zQ  SeWjOuBWjNQz_d-tzUhicg   \n",
       "13580  tG-noZMPf8yr3fJF2YXnKA  _OeBXjtrxVJuoHQ_qABX1A  wI-GpeZPIoqhSi9OoLOylg   \n",
       "\n",
       "       stars  useful  funny  cool  \\\n",
       "2767       3       0      0     0   \n",
       "3023       5       0      0     0   \n",
       "10999      5       3      1     0   \n",
       "12717      5       0      0     0   \n",
       "13580      5       1      0     0   \n",
       "\n",
       "                                                                                                                                                                                                                                            text  \\\n",
       "2767   I give it four just because the food is amazing have yet to have a bad meal, chicken pot pie and Shepards pie unreal. The only downside is the red headed Irish waiter the guys an absolute miserable douchebag...bartenders are great to   \n",
       "3023                                 Simply amazing. Enjoyed the chefs tasting with 6 friends had a great time and was really happy with the service, the waitress and the food. If I lived in the area this would be a non stop spot to hit up.   \n",
       "10999                                              I haven't went there and years and me and my family had an amazing time we went it was our first time back in over 15 years roller coasters are a great upgrade and my kids love them as well   \n",
       "12717                                    Easy 10/10 for El Primo. The food was outstanding. So delicious. We tried the migas tacos and a chicken torta. Our new go-to place for tacos. Genuinely nice people, great service, and delicious food.   \n",
       "13580                                                                                                    The best cafe ever . fresh food and super clean place . fresh fruit smoothies and fresh baked pastries everyday with a fantastic coffee   \n",
       "\n",
       "                      date  \n",
       "2767   2015-02-18 02:09:22  \n",
       "3023   2017-04-20 14:32:23  \n",
       "10999  2015-04-30 23:46:17  \n",
       "12717  2018-04-28 17:57:50  \n",
       "13580  2017-01-30 14:07:46  "
      ]
     },
     "metadata": {},
     "output_type": "display_data"
    }
   ],
   "source": [
    "# 查看有幾筆資料重複\n",
    "display(reviews['text'].duplicated().sum())\n",
    "display(reviews[reviews['text'].duplicated()].head())"
   ]
  },
  {
   "cell_type": "code",
   "execution_count": 6,
   "id": "4bf83960",
   "metadata": {
    "scrolled": false
   },
   "outputs": [
    {
     "data": {
      "text/html": [
       "<div>\n",
       "<style scoped>\n",
       "    .dataframe tbody tr th:only-of-type {\n",
       "        vertical-align: middle;\n",
       "    }\n",
       "\n",
       "    .dataframe tbody tr th {\n",
       "        vertical-align: top;\n",
       "    }\n",
       "\n",
       "    .dataframe thead th {\n",
       "        text-align: right;\n",
       "    }\n",
       "</style>\n",
       "<table border=\"1\" class=\"dataframe\">\n",
       "  <thead>\n",
       "    <tr style=\"text-align: right;\">\n",
       "      <th></th>\n",
       "      <th>business_id</th>\n",
       "      <th>review_id</th>\n",
       "      <th>user_id</th>\n",
       "      <th>stars</th>\n",
       "      <th>useful</th>\n",
       "      <th>funny</th>\n",
       "      <th>cool</th>\n",
       "      <th>text</th>\n",
       "      <th>date</th>\n",
       "    </tr>\n",
       "  </thead>\n",
       "  <tbody>\n",
       "    <tr>\n",
       "      <th>13576</th>\n",
       "      <td>tG-noZMPf8yr3fJF2YXnKA</td>\n",
       "      <td>yGp80dhFW6tu3QCrLG7tnQ</td>\n",
       "      <td>wI-GpeZPIoqhSi9OoLOylg</td>\n",
       "      <td>5</td>\n",
       "      <td>0</td>\n",
       "      <td>0</td>\n",
       "      <td>0</td>\n",
       "      <td>The best cafe ever . fresh food and super clean place . fresh fruit smoothies and fresh baked pastries everyday with a fantastic coffee</td>\n",
       "      <td>2014-02-06 18:20:47</td>\n",
       "    </tr>\n",
       "    <tr>\n",
       "      <th>13580</th>\n",
       "      <td>tG-noZMPf8yr3fJF2YXnKA</td>\n",
       "      <td>_OeBXjtrxVJuoHQ_qABX1A</td>\n",
       "      <td>wI-GpeZPIoqhSi9OoLOylg</td>\n",
       "      <td>5</td>\n",
       "      <td>1</td>\n",
       "      <td>0</td>\n",
       "      <td>0</td>\n",
       "      <td>The best cafe ever . fresh food and super clean place . fresh fruit smoothies and fresh baked pastries everyday with a fantastic coffee</td>\n",
       "      <td>2017-01-30 14:07:46</td>\n",
       "    </tr>\n",
       "    <tr>\n",
       "      <th>1447468</th>\n",
       "      <td>tG-noZMPf8yr3fJF2YXnKA</td>\n",
       "      <td>_K6e7BmvwA4slBSPcTSCJw</td>\n",
       "      <td>wI-GpeZPIoqhSi9OoLOylg</td>\n",
       "      <td>5</td>\n",
       "      <td>0</td>\n",
       "      <td>0</td>\n",
       "      <td>0</td>\n",
       "      <td>The best cafe ever . fresh food and super clean place . fresh fruit smoothies and fresh baked pastries everyday with a fantastic coffee</td>\n",
       "      <td>2014-02-11 07:32:00</td>\n",
       "    </tr>\n",
       "  </tbody>\n",
       "</table>\n",
       "</div>"
      ],
      "text/plain": [
       "                    business_id               review_id  \\\n",
       "13576    tG-noZMPf8yr3fJF2YXnKA  yGp80dhFW6tu3QCrLG7tnQ   \n",
       "13580    tG-noZMPf8yr3fJF2YXnKA  _OeBXjtrxVJuoHQ_qABX1A   \n",
       "1447468  tG-noZMPf8yr3fJF2YXnKA  _K6e7BmvwA4slBSPcTSCJw   \n",
       "\n",
       "                        user_id  stars  useful  funny  cool  \\\n",
       "13576    wI-GpeZPIoqhSi9OoLOylg      5       0      0     0   \n",
       "13580    wI-GpeZPIoqhSi9OoLOylg      5       1      0     0   \n",
       "1447468  wI-GpeZPIoqhSi9OoLOylg      5       0      0     0   \n",
       "\n",
       "                                                                                                                                            text  \\\n",
       "13576    The best cafe ever . fresh food and super clean place . fresh fruit smoothies and fresh baked pastries everyday with a fantastic coffee   \n",
       "13580    The best cafe ever . fresh food and super clean place . fresh fruit smoothies and fresh baked pastries everyday with a fantastic coffee   \n",
       "1447468  The best cafe ever . fresh food and super clean place . fresh fruit smoothies and fresh baked pastries everyday with a fantastic coffee   \n",
       "\n",
       "                        date  \n",
       "13576    2014-02-06 18:20:47  \n",
       "13580    2017-01-30 14:07:46  \n",
       "1447468  2014-02-11 07:32:00  "
      ]
     },
     "metadata": {},
     "output_type": "display_data"
    },
    {
     "data": {
      "text/html": [
       "<div>\n",
       "<style scoped>\n",
       "    .dataframe tbody tr th:only-of-type {\n",
       "        vertical-align: middle;\n",
       "    }\n",
       "\n",
       "    .dataframe tbody tr th {\n",
       "        vertical-align: top;\n",
       "    }\n",
       "\n",
       "    .dataframe thead th {\n",
       "        text-align: right;\n",
       "    }\n",
       "</style>\n",
       "<table border=\"1\" class=\"dataframe\">\n",
       "  <thead>\n",
       "    <tr style=\"text-align: right;\">\n",
       "      <th></th>\n",
       "      <th>business_id</th>\n",
       "      <th>review_id</th>\n",
       "      <th>user_id</th>\n",
       "      <th>stars</th>\n",
       "      <th>useful</th>\n",
       "      <th>funny</th>\n",
       "      <th>cool</th>\n",
       "      <th>text</th>\n",
       "      <th>date</th>\n",
       "    </tr>\n",
       "  </thead>\n",
       "  <tbody>\n",
       "    <tr>\n",
       "      <th>114350</th>\n",
       "      <td>PBXOwdShX8-2VRn4O0qhlg</td>\n",
       "      <td>u__KJs0jHg6ExpTKS_F2BQ</td>\n",
       "      <td>xcTlNf8Mty2pbr8PTcjxgQ</td>\n",
       "      <td>5</td>\n",
       "      <td>0</td>\n",
       "      <td>0</td>\n",
       "      <td>0</td>\n",
       "      <td>Great prices and really good food. \\n\\nHad a beef Torta and beef tacos. The bread and tortillas were freshly made that day. \\n\\nThe sauce on the Torta was the perfect mixture of spice and flavor. \\n\\nThe beef has a great flavor, which tends to get lost at most the taquerias in this area. \\n\\nHad it Sunday night and two nights later we're going back for more!!</td>\n",
       "      <td>2014-08-27 02:10:52</td>\n",
       "    </tr>\n",
       "    <tr>\n",
       "      <th>132653</th>\n",
       "      <td>-921gYzvMFJmxJw9SMZ5mA</td>\n",
       "      <td>CCJqBA4drPNd9UodG-GI-g</td>\n",
       "      <td>xcTlNf8Mty2pbr8PTcjxgQ</td>\n",
       "      <td>5</td>\n",
       "      <td>1</td>\n",
       "      <td>0</td>\n",
       "      <td>0</td>\n",
       "      <td>Great prices and really good food. \\n\\nHad a beef Torta and beef tacos. The bread and tortillas were freshly made that day. \\n\\nThe sauce on the Torta was the perfect mixture of spice and flavor. \\n\\nThe beef has a great flavor, which tends to get lost at most the taquerias in this area. \\n\\nHad it Sunday night and two nights later we're going back for more!!</td>\n",
       "      <td>2014-08-27 02:11:49</td>\n",
       "    </tr>\n",
       "  </tbody>\n",
       "</table>\n",
       "</div>"
      ],
      "text/plain": [
       "                   business_id               review_id  \\\n",
       "114350  PBXOwdShX8-2VRn4O0qhlg  u__KJs0jHg6ExpTKS_F2BQ   \n",
       "132653  -921gYzvMFJmxJw9SMZ5mA  CCJqBA4drPNd9UodG-GI-g   \n",
       "\n",
       "                       user_id  stars  useful  funny  cool  \\\n",
       "114350  xcTlNf8Mty2pbr8PTcjxgQ      5       0      0     0   \n",
       "132653  xcTlNf8Mty2pbr8PTcjxgQ      5       1      0     0   \n",
       "\n",
       "                                                                                                                                                                                                                                                                                                                                                                             text  \\\n",
       "114350  Great prices and really good food. \\n\\nHad a beef Torta and beef tacos. The bread and tortillas were freshly made that day. \\n\\nThe sauce on the Torta was the perfect mixture of spice and flavor. \\n\\nThe beef has a great flavor, which tends to get lost at most the taquerias in this area. \\n\\nHad it Sunday night and two nights later we're going back for more!!   \n",
       "132653  Great prices and really good food. \\n\\nHad a beef Torta and beef tacos. The bread and tortillas were freshly made that day. \\n\\nThe sauce on the Torta was the perfect mixture of spice and flavor. \\n\\nThe beef has a great flavor, which tends to get lost at most the taquerias in this area. \\n\\nHad it Sunday night and two nights later we're going back for more!!   \n",
       "\n",
       "                       date  \n",
       "114350  2014-08-27 02:10:52  \n",
       "132653  2014-08-27 02:11:49  "
      ]
     },
     "metadata": {},
     "output_type": "display_data"
    }
   ],
   "source": [
    "# 發現有部分使用者會留下相同的評論在同一間餐廳或不同間餐廳\n",
    "display(reviews[reviews['text']==\"The best cafe ever . fresh food and super clean place . fresh fruit smoothies and fresh baked pastries everyday with a fantastic coffee\"])\n",
    "display(reviews[reviews['text']==\"Great prices and really good food. \\n\\nHad a beef Torta and beef tacos. The bread and tortillas were freshly made that day. \\n\\nThe sauce on the Torta was the perfect mixture of spice and flavor. \\n\\nThe beef has a great flavor, which tends to get lost at most the taquerias in this area. \\n\\nHad it Sunday night and two nights later we're going back for more!!\"])"
   ]
  },
  {
   "cell_type": "code",
   "execution_count": 12,
   "id": "bc0e52ac",
   "metadata": {},
   "outputs": [
    {
     "name": "stdout",
     "output_type": "stream",
     "text": [
      "資料筆數: 5564778\n"
     ]
    }
   ],
   "source": [
    "# 清除同一間餐廳裡重複的評論，並再次確認\n",
    "reviews = reviews.drop_duplicates(subset=['business_id', 'text']).reset_index(drop=True)\n",
    "reviews.duplicated(subset=['business_id', 'text']).any()\n",
    "print(\"資料筆數: \" + str(len(reviews)))"
   ]
  },
  {
   "cell_type": "code",
   "execution_count": 13,
   "id": "07f1ffb1",
   "metadata": {
    "scrolled": true
   },
   "outputs": [
    {
     "data": {
      "text/html": [
       "<div>\n",
       "<style scoped>\n",
       "    .dataframe tbody tr th:only-of-type {\n",
       "        vertical-align: middle;\n",
       "    }\n",
       "\n",
       "    .dataframe tbody tr th {\n",
       "        vertical-align: top;\n",
       "    }\n",
       "\n",
       "    .dataframe thead th {\n",
       "        text-align: right;\n",
       "    }\n",
       "</style>\n",
       "<table border=\"1\" class=\"dataframe\">\n",
       "  <thead>\n",
       "    <tr style=\"text-align: right;\">\n",
       "      <th></th>\n",
       "      <th>business_id</th>\n",
       "      <th>review_id</th>\n",
       "      <th>user_id</th>\n",
       "      <th>stars</th>\n",
       "      <th>text</th>\n",
       "      <th>date</th>\n",
       "    </tr>\n",
       "  </thead>\n",
       "  <tbody>\n",
       "    <tr>\n",
       "      <th>0</th>\n",
       "      <td>6iYb2HFDywm3zjuRg0shjw</td>\n",
       "      <td>bkHUOCicGZ856vpvcWuW7Q</td>\n",
       "      <td>93z0yh-sUpGZS-cSKu6xxA</td>\n",
       "      <td>5</td>\n",
       "      <td>Stopped in on a busy Friday night. Despite the crowd, the service was expedient and warm. \\n\\nThe beers here speak for themselves, so we sampled some of their taproom only offerings, and the galaxy smash was clean, tropical and sessionable.\\n\\nThis being said, the real star of this place is the pizza. It's a hand tossed style crust, that's the perfect mix of crispy and doughy. We ordered the special pizza (luau- bacon, pineapple and fresh jalapeño), and it was the perfect mix of fat, sweetness and heat. \\n\\nIf you're looking for a comfortable spot to grab a beer, and share some food with some friends on pearl, this is the place!</td>\n",
       "      <td>2018-03-04 00:59:21</td>\n",
       "    </tr>\n",
       "    <tr>\n",
       "      <th>1</th>\n",
       "      <td>6iYb2HFDywm3zjuRg0shjw</td>\n",
       "      <td>VKBc48PPwyWIUE1RhBT_8A</td>\n",
       "      <td>Q_CZIvnsDHjpls-EPzzG7Q</td>\n",
       "      <td>2</td>\n",
       "      <td>Went there about 1 PM on a Monday.  It wasn't particularly busy, and we were seated quickly.  Our drink order was taken promptly, one coke and one beer, and we didn't see our server again for 10 minutes.  I believe it was the bartender who finally brought the beer, but didn't get the coke. He then brought our second drink a few minutes later.  When we did see our server, she was  taking an order at another table, and then 5 minutes later brought those people their drinks.  Didn't see her again for another 5 minutes when she finally came back to take our order.  At that point we were more than 20 minutes into this place, and decided it wasn't worth any more waiting so we put a few bucks down and got up and left.  Very poor service.  No idea how the food is since we didn't even get our order in.  Only about the second place I had to walk out of due to extremely poor service.</td>\n",
       "      <td>2018-08-14 05:22:00</td>\n",
       "    </tr>\n",
       "    <tr>\n",
       "      <th>2</th>\n",
       "      <td>6iYb2HFDywm3zjuRg0shjw</td>\n",
       "      <td>JKNv1l7JgayZjG6nK__hXQ</td>\n",
       "      <td>rqxTSFFj5fZNmabY1fmTlw</td>\n",
       "      <td>5</td>\n",
       "      <td>This was the place the be on Friday Night! If you're looking for the best French Onion Soup in Boulder, paired with the best craft beer selection on Pearl Street. Go. Go now!</td>\n",
       "      <td>2018-03-17 14:22:48</td>\n",
       "    </tr>\n",
       "    <tr>\n",
       "      <th>3</th>\n",
       "      <td>6iYb2HFDywm3zjuRg0shjw</td>\n",
       "      <td>WNM_Oyzy6mB6n0Z9lcuZyQ</td>\n",
       "      <td>vNPxlt5f50q0e2nVAScW3Q</td>\n",
       "      <td>4</td>\n",
       "      <td>Went to this place with my family over the weekend after a hike in Boulder and it was really nice. Their patio is perfect for bringing your dog (you cannot have the dog on the patio but you can have them tied up on the other side and still have them very close to you) and also nice and big so there is lots of room on a beautiful, sunny day. Beers on tap were super cheap and they brought out samples when we weren't sure what to order. Wait staff was attentive. Everyone enjoyed their food but there was nothing special about it- typical brewery food.</td>\n",
       "      <td>2018-04-04 21:16:50</td>\n",
       "    </tr>\n",
       "    <tr>\n",
       "      <th>4</th>\n",
       "      <td>6iYb2HFDywm3zjuRg0shjw</td>\n",
       "      <td>jG4gZz5FrHyItJXz1YV9Sw</td>\n",
       "      <td>eXRC79iX60xwA1UuGRuWNg</td>\n",
       "      <td>4</td>\n",
       "      <td>Stopped on a midweek afternoon, and so glad that I did! One of the newer additions to the West End of Pearl Street, and it turns out to be a superb place to get a burger! Have been to the original Oskar Blues also, didn't disappoint. Lot of space to enjoy the restaurant and bar, plenty of indoor booths and tables, plenty of outside seating. Good atmosphere, some really fun items on the walls, and multiple giant screen televisions to stay on top of the latest games. Really appreciated the customer service from my server, Phoebe, who knew the menu, was extremely positive and professional, and could not have been better. Quick service, attention to detail. Loved my burger, cooked exactly as I requested, and the tater tots are so darn good. Liked their multiple in-house beverage options, had a great root beer! I'll definitely return!</td>\n",
       "      <td>2018-04-28 19:17:04</td>\n",
       "    </tr>\n",
       "  </tbody>\n",
       "</table>\n",
       "</div>"
      ],
      "text/plain": [
       "              business_id               review_id                 user_id  \\\n",
       "0  6iYb2HFDywm3zjuRg0shjw  bkHUOCicGZ856vpvcWuW7Q  93z0yh-sUpGZS-cSKu6xxA   \n",
       "1  6iYb2HFDywm3zjuRg0shjw  VKBc48PPwyWIUE1RhBT_8A  Q_CZIvnsDHjpls-EPzzG7Q   \n",
       "2  6iYb2HFDywm3zjuRg0shjw  JKNv1l7JgayZjG6nK__hXQ  rqxTSFFj5fZNmabY1fmTlw   \n",
       "3  6iYb2HFDywm3zjuRg0shjw  WNM_Oyzy6mB6n0Z9lcuZyQ  vNPxlt5f50q0e2nVAScW3Q   \n",
       "4  6iYb2HFDywm3zjuRg0shjw  jG4gZz5FrHyItJXz1YV9Sw  eXRC79iX60xwA1UuGRuWNg   \n",
       "\n",
       "   stars  \\\n",
       "0      5   \n",
       "1      2   \n",
       "2      5   \n",
       "3      4   \n",
       "4      4   \n",
       "\n",
       "                                                                                                                                                                                                                                                                                                                                                                                                                                                                                                                                                                                                                                                                                                                                                                                                                                                                                                                    text  \\\n",
       "0                                                                                                                                                                                                                                                           Stopped in on a busy Friday night. Despite the crowd, the service was expedient and warm. \\n\\nThe beers here speak for themselves, so we sampled some of their taproom only offerings, and the galaxy smash was clean, tropical and sessionable.\\n\\nThis being said, the real star of this place is the pizza. It's a hand tossed style crust, that's the perfect mix of crispy and doughy. We ordered the special pizza (luau- bacon, pineapple and fresh jalapeño), and it was the perfect mix of fat, sweetness and heat. \\n\\nIf you're looking for a comfortable spot to grab a beer, and share some food with some friends on pearl, this is the place!   \n",
       "1  Went there about 1 PM on a Monday.  It wasn't particularly busy, and we were seated quickly.  Our drink order was taken promptly, one coke and one beer, and we didn't see our server again for 10 minutes.  I believe it was the bartender who finally brought the beer, but didn't get the coke. He then brought our second drink a few minutes later.  When we did see our server, she was  taking an order at another table, and then 5 minutes later brought those people their drinks.  Didn't see her again for another 5 minutes when she finally came back to take our order.  At that point we were more than 20 minutes into this place, and decided it wasn't worth any more waiting so we put a few bucks down and got up and left.  Very poor service.  No idea how the food is since we didn't even get our order in.  Only about the second place I had to walk out of due to extremely poor service.   \n",
       "2                                                                                                                                                                                                                                                                                                                                                                                                                                                                                                                                                                                                                                                                                                                                         This was the place the be on Friday Night! If you're looking for the best French Onion Soup in Boulder, paired with the best craft beer selection on Pearl Street. Go. Go now!   \n",
       "3                                                                                                                                                                                                                                                                                                                                              Went to this place with my family over the weekend after a hike in Boulder and it was really nice. Their patio is perfect for bringing your dog (you cannot have the dog on the patio but you can have them tied up on the other side and still have them very close to you) and also nice and big so there is lots of room on a beautiful, sunny day. Beers on tap were super cheap and they brought out samples when we weren't sure what to order. Wait staff was attentive. Everyone enjoyed their food but there was nothing special about it- typical brewery food.   \n",
       "4                                              Stopped on a midweek afternoon, and so glad that I did! One of the newer additions to the West End of Pearl Street, and it turns out to be a superb place to get a burger! Have been to the original Oskar Blues also, didn't disappoint. Lot of space to enjoy the restaurant and bar, plenty of indoor booths and tables, plenty of outside seating. Good atmosphere, some really fun items on the walls, and multiple giant screen televisions to stay on top of the latest games. Really appreciated the customer service from my server, Phoebe, who knew the menu, was extremely positive and professional, and could not have been better. Quick service, attention to detail. Loved my burger, cooked exactly as I requested, and the tater tots are so darn good. Liked their multiple in-house beverage options, had a great root beer! I'll definitely return!   \n",
       "\n",
       "                  date  \n",
       "0  2018-03-04 00:59:21  \n",
       "1  2018-08-14 05:22:00  \n",
       "2  2018-03-17 14:22:48  \n",
       "3  2018-04-04 21:16:50  \n",
       "4  2018-04-28 19:17:04  "
      ]
     },
     "execution_count": 13,
     "metadata": {},
     "output_type": "execute_result"
    }
   ],
   "source": [
    "# 選取我們需要的欄位\n",
    "reviews = reviews[['business_id', 'review_id', 'user_id', 'stars', 'text', 'date']]\n",
    "reviews.head()"
   ]
  },
  {
   "cell_type": "markdown",
   "id": "326766bd",
   "metadata": {},
   "source": [
    "#### 查看哪個城市擁有最多評論"
   ]
  },
  {
   "cell_type": "code",
   "execution_count": 14,
   "id": "35bd62b8",
   "metadata": {
    "scrolled": false
   },
   "outputs": [
    {
     "data": {
      "text/html": [
       "<div>\n",
       "<style scoped>\n",
       "    .dataframe tbody tr th:only-of-type {\n",
       "        vertical-align: middle;\n",
       "    }\n",
       "\n",
       "    .dataframe tbody tr th {\n",
       "        vertical-align: top;\n",
       "    }\n",
       "\n",
       "    .dataframe thead th {\n",
       "        text-align: right;\n",
       "    }\n",
       "</style>\n",
       "<table border=\"1\" class=\"dataframe\">\n",
       "  <thead>\n",
       "    <tr style=\"text-align: right;\">\n",
       "      <th></th>\n",
       "      <th>business_id</th>\n",
       "      <th>review_id</th>\n",
       "      <th>user_id</th>\n",
       "      <th>stars</th>\n",
       "      <th>text</th>\n",
       "      <th>date</th>\n",
       "      <th>city</th>\n",
       "    </tr>\n",
       "  </thead>\n",
       "  <tbody>\n",
       "    <tr>\n",
       "      <th>0</th>\n",
       "      <td>6iYb2HFDywm3zjuRg0shjw</td>\n",
       "      <td>bkHUOCicGZ856vpvcWuW7Q</td>\n",
       "      <td>93z0yh-sUpGZS-cSKu6xxA</td>\n",
       "      <td>5</td>\n",
       "      <td>Stopped in on a busy Friday night. Despite the crowd, the service was expedient and warm. \\n\\nThe beers here speak for themselves, so we sampled some of their taproom only offerings, and the galaxy smash was clean, tropical and sessionable.\\n\\nThis being said, the real star of this place is the pizza. It's a hand tossed style crust, that's the perfect mix of crispy and doughy. We ordered the special pizza (luau- bacon, pineapple and fresh jalapeño), and it was the perfect mix of fat, sweetness and heat. \\n\\nIf you're looking for a comfortable spot to grab a beer, and share some food with some friends on pearl, this is the place!</td>\n",
       "      <td>2018-03-04 00:59:21</td>\n",
       "      <td>Boulder</td>\n",
       "    </tr>\n",
       "    <tr>\n",
       "      <th>1</th>\n",
       "      <td>6iYb2HFDywm3zjuRg0shjw</td>\n",
       "      <td>VKBc48PPwyWIUE1RhBT_8A</td>\n",
       "      <td>Q_CZIvnsDHjpls-EPzzG7Q</td>\n",
       "      <td>2</td>\n",
       "      <td>Went there about 1 PM on a Monday.  It wasn't particularly busy, and we were seated quickly.  Our drink order was taken promptly, one coke and one beer, and we didn't see our server again for 10 minutes.  I believe it was the bartender who finally brought the beer, but didn't get the coke. He then brought our second drink a few minutes later.  When we did see our server, she was  taking an order at another table, and then 5 minutes later brought those people their drinks.  Didn't see her again for another 5 minutes when she finally came back to take our order.  At that point we were more than 20 minutes into this place, and decided it wasn't worth any more waiting so we put a few bucks down and got up and left.  Very poor service.  No idea how the food is since we didn't even get our order in.  Only about the second place I had to walk out of due to extremely poor service.</td>\n",
       "      <td>2018-08-14 05:22:00</td>\n",
       "      <td>Boulder</td>\n",
       "    </tr>\n",
       "    <tr>\n",
       "      <th>2</th>\n",
       "      <td>6iYb2HFDywm3zjuRg0shjw</td>\n",
       "      <td>JKNv1l7JgayZjG6nK__hXQ</td>\n",
       "      <td>rqxTSFFj5fZNmabY1fmTlw</td>\n",
       "      <td>5</td>\n",
       "      <td>This was the place the be on Friday Night! If you're looking for the best French Onion Soup in Boulder, paired with the best craft beer selection on Pearl Street. Go. Go now!</td>\n",
       "      <td>2018-03-17 14:22:48</td>\n",
       "      <td>Boulder</td>\n",
       "    </tr>\n",
       "  </tbody>\n",
       "</table>\n",
       "</div>"
      ],
      "text/plain": [
       "              business_id               review_id                 user_id  \\\n",
       "0  6iYb2HFDywm3zjuRg0shjw  bkHUOCicGZ856vpvcWuW7Q  93z0yh-sUpGZS-cSKu6xxA   \n",
       "1  6iYb2HFDywm3zjuRg0shjw  VKBc48PPwyWIUE1RhBT_8A  Q_CZIvnsDHjpls-EPzzG7Q   \n",
       "2  6iYb2HFDywm3zjuRg0shjw  JKNv1l7JgayZjG6nK__hXQ  rqxTSFFj5fZNmabY1fmTlw   \n",
       "\n",
       "   stars  \\\n",
       "0      5   \n",
       "1      2   \n",
       "2      5   \n",
       "\n",
       "                                                                                                                                                                                                                                                                                                                                                                                                                                                                                                                                                                                                                                                                                                                                                                                                                                                                                                                    text  \\\n",
       "0                                                                                                                                                                                                                                                           Stopped in on a busy Friday night. Despite the crowd, the service was expedient and warm. \\n\\nThe beers here speak for themselves, so we sampled some of their taproom only offerings, and the galaxy smash was clean, tropical and sessionable.\\n\\nThis being said, the real star of this place is the pizza. It's a hand tossed style crust, that's the perfect mix of crispy and doughy. We ordered the special pizza (luau- bacon, pineapple and fresh jalapeño), and it was the perfect mix of fat, sweetness and heat. \\n\\nIf you're looking for a comfortable spot to grab a beer, and share some food with some friends on pearl, this is the place!   \n",
       "1  Went there about 1 PM on a Monday.  It wasn't particularly busy, and we were seated quickly.  Our drink order was taken promptly, one coke and one beer, and we didn't see our server again for 10 minutes.  I believe it was the bartender who finally brought the beer, but didn't get the coke. He then brought our second drink a few minutes later.  When we did see our server, she was  taking an order at another table, and then 5 minutes later brought those people their drinks.  Didn't see her again for another 5 minutes when she finally came back to take our order.  At that point we were more than 20 minutes into this place, and decided it wasn't worth any more waiting so we put a few bucks down and got up and left.  Very poor service.  No idea how the food is since we didn't even get our order in.  Only about the second place I had to walk out of due to extremely poor service.   \n",
       "2                                                                                                                                                                                                                                                                                                                                                                                                                                                                                                                                                                                                                                                                                                                                         This was the place the be on Friday Night! If you're looking for the best French Onion Soup in Boulder, paired with the best craft beer selection on Pearl Street. Go. Go now!   \n",
       "\n",
       "                  date     city  \n",
       "0  2018-03-04 00:59:21  Boulder  \n",
       "1  2018-08-14 05:22:00  Boulder  \n",
       "2  2018-03-17 14:22:48  Boulder  "
      ]
     },
     "execution_count": 14,
     "metadata": {},
     "output_type": "execute_result"
    }
   ],
   "source": [
    "final_reviews = pd.merge(reviews, restaurants[['business_id','city']], on=\"business_id\", how=\"left\")\n",
    "final_reviews.head(3)"
   ]
  },
  {
   "cell_type": "code",
   "execution_count": 15,
   "id": "c3ea6c4b",
   "metadata": {},
   "outputs": [
    {
     "name": "stdout",
     "output_type": "stream",
     "text": [
      "各城市所有評論數:\n"
     ]
    },
    {
     "data": {
      "text/plain": [
       "Austin      806324\n",
       "Portland    750932\n",
       "Atlanta     599121\n",
       "Boston      531908\n",
       "Orlando     450688\n",
       "Name: city, dtype: int64"
      ]
     },
     "execution_count": 15,
     "metadata": {},
     "output_type": "execute_result"
    }
   ],
   "source": [
    "print(\"各城市所有評論數:\")\n",
    "final_reviews['city'].value_counts().head()"
   ]
  },
  {
   "cell_type": "code",
   "execution_count": 16,
   "id": "a9c34aa3",
   "metadata": {
    "scrolled": true
   },
   "outputs": [
    {
     "name": "stdout",
     "output_type": "stream",
     "text": [
      "Austin  有 4957 間餐廳\n",
      "Portland有 5730 間餐廳\n",
      "Atlanta 有 4179 間餐廳\n"
     ]
    }
   ],
   "source": [
    "print(f\"Austin  有 {(len(restaurants[restaurants['city']=='Austin']))} 間餐廳\")\n",
    "print(f\"Portland有 {(len(restaurants[restaurants['city']=='Portland']))} 間餐廳\")\n",
    "print(f\"Atlanta 有 {(len(restaurants[restaurants['city']=='Atlanta']))} 間餐廳\")"
   ]
  },
  {
   "cell_type": "markdown",
   "id": "a3d177c2",
   "metadata": {},
   "source": [
    "# User Info"
   ]
  },
  {
   "cell_type": "code",
   "execution_count": 3,
   "id": "c1bcf403",
   "metadata": {
    "scrolled": false
   },
   "outputs": [
    {
     "data": {
      "text/plain": [
       "Index(['user_id', 'name', 'review_count', 'yelping_since', 'useful', 'funny',\n",
       "       'cool', 'elite', 'friends', 'fans', 'average_stars', 'compliment_hot',\n",
       "       'compliment_more', 'compliment_profile', 'compliment_cute',\n",
       "       'compliment_list', 'compliment_note', 'compliment_plain',\n",
       "       'compliment_cool', 'compliment_funny', 'compliment_writer',\n",
       "       'compliment_photos'],\n",
       "      dtype='object')"
      ]
     },
     "metadata": {},
     "output_type": "display_data"
    }
   ],
   "source": [
    "user = pd.read_csv(\"Dataset/Done/user.csv\")\n",
    "display(user.keys())\n",
    "# user.head()"
   ]
  },
  {
   "cell_type": "code",
   "execution_count": 5,
   "id": "54ccd82d",
   "metadata": {
    "scrolled": true
   },
   "outputs": [
    {
     "data": {
      "text/plain": [
       "48168054"
      ]
     },
     "execution_count": 5,
     "metadata": {},
     "output_type": "execute_result"
    }
   ],
   "source": [
    "user.size"
   ]
  },
  {
   "cell_type": "code",
   "execution_count": 6,
   "id": "a650f219",
   "metadata": {},
   "outputs": [
    {
     "data": {
      "text/plain": [
       "(2189457, 22)"
      ]
     },
     "execution_count": 6,
     "metadata": {},
     "output_type": "execute_result"
    }
   ],
   "source": [
    "user.shape"
   ]
  },
  {
   "cell_type": "code",
   "execution_count": 6,
   "id": "7a3110dd",
   "metadata": {
    "scrolled": true
   },
   "outputs": [
    {
     "data": {
      "text/html": [
       "<div>\n",
       "<style scoped>\n",
       "    .dataframe tbody tr th:only-of-type {\n",
       "        vertical-align: middle;\n",
       "    }\n",
       "\n",
       "    .dataframe tbody tr th {\n",
       "        vertical-align: top;\n",
       "    }\n",
       "\n",
       "    .dataframe thead th {\n",
       "        text-align: right;\n",
       "    }\n",
       "</style>\n",
       "<table border=\"1\" class=\"dataframe\">\n",
       "  <thead>\n",
       "    <tr style=\"text-align: right;\">\n",
       "      <th></th>\n",
       "      <th>user_id</th>\n",
       "      <th>name</th>\n",
       "    </tr>\n",
       "  </thead>\n",
       "  <tbody>\n",
       "    <tr>\n",
       "      <th>0</th>\n",
       "      <td>q_QQ5kBBwlCcbL1s4NVK3g</td>\n",
       "      <td>Jane</td>\n",
       "    </tr>\n",
       "    <tr>\n",
       "      <th>1</th>\n",
       "      <td>dIIKEfOgo0KqUfGQvGikPg</td>\n",
       "      <td>Gabi</td>\n",
       "    </tr>\n",
       "    <tr>\n",
       "      <th>2</th>\n",
       "      <td>D6ErcUnFALnCQN4b1W_TlA</td>\n",
       "      <td>Jason</td>\n",
       "    </tr>\n",
       "    <tr>\n",
       "      <th>3</th>\n",
       "      <td>JnPIjvC0cmooNDfsa9BmXg</td>\n",
       "      <td>Kat</td>\n",
       "    </tr>\n",
       "    <tr>\n",
       "      <th>4</th>\n",
       "      <td>37Hc8hr3cw0iHLoPzLK6Ow</td>\n",
       "      <td>Christine</td>\n",
       "    </tr>\n",
       "    <tr>\n",
       "      <th>5</th>\n",
       "      <td>n-QwITZYrXlKQRiV30MqNg</td>\n",
       "      <td>Natasha</td>\n",
       "    </tr>\n",
       "    <tr>\n",
       "      <th>6</th>\n",
       "      <td>eCJoZqpV1fDKJGAsXmWXqQ</td>\n",
       "      <td>Bridget</td>\n",
       "    </tr>\n",
       "    <tr>\n",
       "      <th>7</th>\n",
       "      <td>cojecOwQJpsYDxnjtgzteQ</td>\n",
       "      <td>Steven</td>\n",
       "    </tr>\n",
       "    <tr>\n",
       "      <th>8</th>\n",
       "      <td>1jXmzuIFKxTnEnR0pxO0Hg</td>\n",
       "      <td>Clara</td>\n",
       "    </tr>\n",
       "    <tr>\n",
       "      <th>9</th>\n",
       "      <td>-8QoOIfvwwxJ4sY201WP5A</td>\n",
       "      <td>Antoinette</td>\n",
       "    </tr>\n",
       "  </tbody>\n",
       "</table>\n",
       "</div>"
      ],
      "text/plain": [
       "                  user_id        name\n",
       "0  q_QQ5kBBwlCcbL1s4NVK3g        Jane\n",
       "1  dIIKEfOgo0KqUfGQvGikPg        Gabi\n",
       "2  D6ErcUnFALnCQN4b1W_TlA       Jason\n",
       "3  JnPIjvC0cmooNDfsa9BmXg         Kat\n",
       "4  37Hc8hr3cw0iHLoPzLK6Ow   Christine\n",
       "5  n-QwITZYrXlKQRiV30MqNg     Natasha\n",
       "6  eCJoZqpV1fDKJGAsXmWXqQ     Bridget\n",
       "7  cojecOwQJpsYDxnjtgzteQ      Steven\n",
       "8  1jXmzuIFKxTnEnR0pxO0Hg       Clara\n",
       "9  -8QoOIfvwwxJ4sY201WP5A  Antoinette"
      ]
     },
     "execution_count": 6,
     "metadata": {},
     "output_type": "execute_result"
    }
   ],
   "source": [
    "user[[\"user_id\", \"name\"]].head(10)"
   ]
  },
  {
   "cell_type": "code",
   "execution_count": null,
   "id": "4babd6c3",
   "metadata": {},
   "outputs": [],
   "source": [
    "print(\"資料筆數: \" + str(len(user)))\n",
    "print(\"資料是否有重複: \" + str(user['user_id'].duplicated().any()))\n",
    "print(\"資料是否有空值: \" + str(user['user_id'].isnull().any()))"
   ]
  },
  {
   "cell_type": "markdown",
   "id": "99ee2832",
   "metadata": {},
   "source": [
    "# Clear all variables to release memory"
   ]
  },
  {
   "cell_type": "code",
   "execution_count": null,
   "id": "6422b4d5",
   "metadata": {},
   "outputs": [],
   "source": [
    "reset"
   ]
  }
 ],
 "metadata": {
  "kernelspec": {
   "display_name": "Python 3",
   "language": "python",
   "name": "python3"
  },
  "language_info": {
   "codemirror_mode": {
    "name": "ipython",
    "version": 3
   },
   "file_extension": ".py",
   "mimetype": "text/x-python",
   "name": "python",
   "nbconvert_exporter": "python",
   "pygments_lexer": "ipython3",
   "version": "3.8.8"
  }
 },
 "nbformat": 4,
 "nbformat_minor": 5
}
