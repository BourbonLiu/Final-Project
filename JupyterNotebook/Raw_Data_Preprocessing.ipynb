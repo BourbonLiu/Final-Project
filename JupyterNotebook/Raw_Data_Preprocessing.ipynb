{
 "cells": [
  {
   "cell_type": "code",
   "execution_count": 1,
   "id": "b6a6300b",
   "metadata": {},
   "outputs": [],
   "source": [
    "import pandas as pd\n",
    "import json\n",
    "from glob import glob"
   ]
  },
  {
   "cell_type": "markdown",
   "id": "9f866919",
   "metadata": {},
   "source": [
    "## Dataset\n",
    "\n",
    "[Yelp Dataset](https://www.yelp.com/dataset)\n",
    "* yelp_academic_dataset_business.json\n",
    "* yelp_academic_dataset_review.json\n",
    "* yelp_academic_dataset_user.json\n",
    "* yelp_academic_dataset_checkin.json\n",
    "* yelp_academic_dataset_tip.json"
   ]
  },
  {
   "cell_type": "code",
   "execution_count": 2,
   "id": "d1e039aa",
   "metadata": {},
   "outputs": [],
   "source": [
    "pd.options.display.max_colwidth = None"
   ]
  },
  {
   "cell_type": "code",
   "execution_count": 3,
   "id": "89689fa6",
   "metadata": {},
   "outputs": [],
   "source": [
    "resource_path = \"Dataset/\"\n",
    "result_path = \"Dataset/Done/\""
   ]
  },
  {
   "cell_type": "markdown",
   "id": "1b157cf3",
   "metadata": {},
   "source": [
    "## Restaurant Info\n",
    "Contains business data including location data, attributes, and categories."
   ]
  },
  {
   "cell_type": "markdown",
   "id": "6d8b39f0",
   "metadata": {},
   "source": [
    "#### 所有店家資料"
   ]
  },
  {
   "cell_type": "code",
   "execution_count": 5,
   "id": "7dda7d16",
   "metadata": {
    "scrolled": true
   },
   "outputs": [
    {
     "name": "stdout",
     "output_type": "stream",
     "text": [
      "Index(['business_id', 'name', 'address', 'city', 'state', 'postal_code',\n",
      "       'latitude', 'longitude', 'stars', 'review_count', 'is_open',\n",
      "       'attributes', 'categories', 'hours'],\n",
      "      dtype='object')\n",
      "-------------------------------------------------------------\n",
      "資料筆數:160585\n",
      "-------------------------------------------------------------\n"
     ]
    },
    {
     "data": {
      "text/html": [
       "<div>\n",
       "<style scoped>\n",
       "    .dataframe tbody tr th:only-of-type {\n",
       "        vertical-align: middle;\n",
       "    }\n",
       "\n",
       "    .dataframe tbody tr th {\n",
       "        vertical-align: top;\n",
       "    }\n",
       "\n",
       "    .dataframe thead th {\n",
       "        text-align: right;\n",
       "    }\n",
       "</style>\n",
       "<table border=\"1\" class=\"dataframe\">\n",
       "  <thead>\n",
       "    <tr style=\"text-align: right;\">\n",
       "      <th></th>\n",
       "      <th>attributes</th>\n",
       "    </tr>\n",
       "  </thead>\n",
       "  <tbody>\n",
       "    <tr>\n",
       "      <th>0</th>\n",
       "      <td>{'RestaurantsTableService': 'True', 'WiFi': 'u'free'', 'BikeParking': 'True', 'BusinessParking': '{'garage': False, 'street': True, 'validated': False, 'lot': False, 'valet': False}', 'BusinessAcceptsCreditCards': 'True', 'RestaurantsReservations': 'False', 'WheelchairAccessible': 'True', 'Caters': 'True', 'OutdoorSeating': 'True', 'RestaurantsGoodForGroups': 'True', 'HappyHour': 'True', 'BusinessAcceptsBitcoin': 'False', 'RestaurantsPriceRange2': '2', 'Ambience': '{'touristy': False, 'hipster': False, 'romantic': False, 'divey': False, 'intimate': False, 'trendy': False, 'upscale': False, 'classy': False, 'casual': True}', 'HasTV': 'True', 'Alcohol': ''beer_and_wine'', 'GoodForMeal': '{'dessert': False, 'latenight': False, 'lunch': False, 'dinner': False, 'brunch': False, 'breakfast': False}', 'DogsAllowed': 'False', 'RestaurantsTakeOut': 'True', 'NoiseLevel': 'u'average'', 'RestaurantsAttire': ''casual'', 'RestaurantsDelivery': 'None'}</td>\n",
       "    </tr>\n",
       "    <tr>\n",
       "      <th>1</th>\n",
       "      <td>{'RestaurantsTakeOut': 'True', 'RestaurantsAttire': 'u'casual'', 'GoodForKids': 'True', 'BikeParking': 'False', 'OutdoorSeating': 'False', 'Ambience': '{'romantic': False, 'intimate': False, 'touristy': False, 'hipster': False, 'divey': False, 'classy': False, 'trendy': False, 'upscale': False, 'casual': True}', 'Caters': 'True', 'RestaurantsReservations': 'False', 'RestaurantsDelivery': 'False', 'HasTV': 'False', 'RestaurantsGoodForGroups': 'False', 'BusinessAcceptsCreditCards': 'True', 'NoiseLevel': 'u'average'', 'ByAppointmentOnly': 'False', 'RestaurantsPriceRange2': '2', 'WiFi': 'u'free'', 'BusinessParking': '{'garage': True, 'street': False, 'validated': False, 'lot': False, 'valet': False}', 'Alcohol': 'u'beer_and_wine'', 'GoodForMeal': '{'dessert': False, 'latenight': False, 'lunch': True, 'dinner': False, 'brunch': False, 'breakfast': True}'}</td>\n",
       "    </tr>\n",
       "    <tr>\n",
       "      <th>2</th>\n",
       "      <td>{'BusinessAcceptsCreditCards': 'True', 'RestaurantsPriceRange2': '2', 'ByAppointmentOnly': 'False', 'BikeParking': 'False', 'BusinessParking': '{'garage': False, 'street': True, 'validated': False, 'lot': False, 'valet': False}'}</td>\n",
       "    </tr>\n",
       "    <tr>\n",
       "      <th>3</th>\n",
       "      <td>{'RestaurantsPriceRange2': '1', 'BusinessAcceptsCreditCards': 'True', 'GoodForKids': 'True', 'ByAppointmentOnly': 'False'}</td>\n",
       "    </tr>\n",
       "    <tr>\n",
       "      <th>4</th>\n",
       "      <td>{'GoodForKids': 'False', 'BusinessParking': '{'garage': False, 'street': False, 'validated': False, 'lot': False, 'valet': False}', 'BusinessAcceptsCreditCards': 'True'}</td>\n",
       "    </tr>\n",
       "    <tr>\n",
       "      <th>5</th>\n",
       "      <td>{'GoodForKids': 'True', 'Alcohol': 'u'none'', 'RestaurantsGoodForGroups': 'True', 'RestaurantsReservations': 'True', 'BusinessParking': '{'garage': False, 'street': True, 'validated': False, 'lot': False, 'valet': False}', 'RestaurantsAttire': 'u'casual'', 'BikeParking': 'True', 'RestaurantsPriceRange2': '2', 'HasTV': 'False', 'NoiseLevel': 'u'average'', 'WiFi': 'u'no'', 'RestaurantsTakeOut': 'True', 'Caters': 'False', 'OutdoorSeating': 'False', 'Ambience': '{'romantic': False, 'intimate': False, 'classy': False, 'hipster': False, 'divey': False, 'touristy': False, 'trendy': False, 'upscale': False, 'casual': True}', 'GoodForMeal': '{'dessert': False, 'latenight': False, 'lunch': True, 'dinner': True, 'brunch': False, 'breakfast': False}', 'DogsAllowed': 'False', 'RestaurantsDelivery': 'True'}</td>\n",
       "    </tr>\n",
       "    <tr>\n",
       "      <th>6</th>\n",
       "      <td>{'AcceptsInsurance': 'True', 'BusinessAcceptsCreditCards': 'True', 'ByAppointmentOnly': 'True'}</td>\n",
       "    </tr>\n",
       "    <tr>\n",
       "      <th>7</th>\n",
       "      <td>None</td>\n",
       "    </tr>\n",
       "    <tr>\n",
       "      <th>8</th>\n",
       "      <td>{'RestaurantsPriceRange2': '1', 'ByAppointmentOnly': 'False', 'BusinessParking': '{'garage': False, 'street': False, 'validated': False, 'lot': True, 'valet': False}', 'BusinessAcceptsCreditCards': 'True', 'DogsAllowed': 'True', 'RestaurantsDelivery': 'None', 'BusinessAcceptsBitcoin': 'False', 'BikeParking': 'True', 'RestaurantsTakeOut': 'None', 'WheelchairAccessible': 'True'}</td>\n",
       "    </tr>\n",
       "    <tr>\n",
       "      <th>9</th>\n",
       "      <td>{'BusinessAcceptsCreditCards': 'False', 'RestaurantsPriceRange2': '3', 'ByAppointmentOnly': 'False', 'BusinessParking': '{'garage': False, 'street': False, 'validated': False, 'lot': False, 'valet': False}'}</td>\n",
       "    </tr>\n",
       "    <tr>\n",
       "      <th>10</th>\n",
       "      <td>{'BikeParking': 'True', 'RestaurantsTakeOut': 'True', 'BusinessParking': '{'garage': False, 'street': True, 'validated': False, 'lot': False, 'valet': False}', 'WheelchairAccessible': 'True', 'DogsAllowed': 'True', 'RestaurantsDelivery': 'False', 'BusinessAcceptsBitcoin': 'False', 'Caters': 'False', 'BusinessAcceptsCreditCards': 'True'}</td>\n",
       "    </tr>\n",
       "    <tr>\n",
       "      <th>11</th>\n",
       "      <td>{'RestaurantsPriceRange2': '2', 'BusinessParking': '{'garage': False, 'street': False, 'validated': False, 'lot': True, 'valet': False}', 'WheelchairAccessible': 'True', 'ByAppointmentOnly': 'False', 'DogsAllowed': 'False', 'BusinessAcceptsCreditCards': 'True', 'GoodForKids': 'True', 'BikeParking': 'True', 'HairSpecializesIn': '{'straightperms': True, 'coloring': True, 'extensions': True, 'africanamerican': True, 'curly': True, 'kids': True, 'perms': True, 'asian': True}', 'WiFi': 'u'free''}</td>\n",
       "    </tr>\n",
       "    <tr>\n",
       "      <th>12</th>\n",
       "      <td>{'RestaurantsGoodForGroups': 'True', 'HasTV': 'True', 'GoodForKids': 'True', 'RestaurantsTakeOut': 'True', 'RestaurantsPriceRange2': '2', 'Ambience': '{'romantic': False, 'intimate': False, 'classy': False, 'hipster': False, 'divey': False, 'touristy': False, 'trendy': False, 'upscale': False, 'casual': True}', 'BikeParking': 'True', 'RestaurantsReservations': 'False', 'BusinessParking': '{'garage': False, 'street': False, 'validated': False, 'lot': True, 'valet': False}', 'RestaurantsTableService': 'False', 'RestaurantsAttire': 'u'casual'', 'RestaurantsDelivery': 'True', 'OutdoorSeating': 'True', 'DogsAllowed': 'True', 'NoiseLevel': ''average'', 'Alcohol': 'u'none'', 'BusinessAcceptsCreditCards': 'True', 'Caters': 'True', 'WheelchairAccessible': 'True', 'WiFi': 'u'free'', 'BusinessAcceptsBitcoin': 'False'}</td>\n",
       "    </tr>\n",
       "    <tr>\n",
       "      <th>13</th>\n",
       "      <td>{'BusinessParking': '{'garage': False, 'street': False, 'validated': False, 'lot': True, 'valet': False}', 'RestaurantsDelivery': 'False', 'BusinessAcceptsCreditCards': 'True', 'RestaurantsPriceRange2': '1', 'DogsAllowed': 'False', 'NoiseLevel': 'u'quiet'', 'RestaurantsTakeOut': 'True', 'Caters': 'True', 'BikeParking': 'True'}</td>\n",
       "    </tr>\n",
       "    <tr>\n",
       "      <th>14</th>\n",
       "      <td>{'BusinessParking': '{'garage': False, 'street': True, 'validated': False, 'lot': False, 'valet': False}', 'BusinessAcceptsCreditCards': 'True', 'ByAppointmentOnly': 'False', 'BikeParking': 'True', 'RestaurantsPriceRange2': '2'}</td>\n",
       "    </tr>\n",
       "    <tr>\n",
       "      <th>15</th>\n",
       "      <td>{'BusinessAcceptsCreditCards': 'True'}</td>\n",
       "    </tr>\n",
       "    <tr>\n",
       "      <th>16</th>\n",
       "      <td>{'HasTV': 'False', 'Caters': 'False', 'BusinessParking': '{'garage': False, 'street': False, 'validated': False, 'lot': False, 'valet': False}', 'BusinessAcceptsCreditCards': 'True', 'RestaurantsPriceRange2': '2', 'BikeParking': 'True', 'RestaurantsAttire': 'u'casual'', 'WiFi': 'u'free'', 'RestaurantsGoodForGroups': 'True', 'RestaurantsReservations': 'False', 'GoodForKids': 'True', 'RestaurantsTakeOut': 'None', 'RestaurantsDelivery': 'None'}</td>\n",
       "    </tr>\n",
       "    <tr>\n",
       "      <th>17</th>\n",
       "      <td>{'WiFi': ''free'', 'RestaurantsPriceRange2': '2', 'BusinessAcceptsCreditCards': 'True', 'DogsAllowed': 'True'}</td>\n",
       "    </tr>\n",
       "    <tr>\n",
       "      <th>18</th>\n",
       "      <td>None</td>\n",
       "    </tr>\n",
       "    <tr>\n",
       "      <th>19</th>\n",
       "      <td>{'BikeParking': 'False', 'RestaurantsPriceRange2': '1', 'BusinessParking': '{'garage': False, 'street': False, 'validated': False, 'lot': False, 'valet': False}', 'BusinessAcceptsCreditCards': 'True', 'Alcohol': ''none'', 'RestaurantsAttire': ''casual'', 'RestaurantsReservations': 'False', 'GoodForMeal': '{'dessert': False, 'latenight': False, 'lunch': False, 'dinner': False, 'brunch': False, 'breakfast': False}', 'GoodForKids': 'True', 'Ambience': '{'touristy': False, 'hipster': False, 'romantic': False, 'divey': False, 'intimate': False, 'trendy': False, 'upscale': False, 'classy': False, 'casual': False}', 'RestaurantsGoodForGroups': 'True', 'HasTV': 'True', 'OutdoorSeating': 'False', 'RestaurantsTakeOut': 'True', 'RestaurantsDelivery': 'True'}</td>\n",
       "    </tr>\n",
       "  </tbody>\n",
       "</table>\n",
       "</div>"
      ],
      "text/plain": [
       "                                                                                                                                                                                                                                                                                                                                                                                                                                                                                                                                                                                                                                                                                                                                                                                                                                                                                                                                                                                 attributes\n",
       "0   {'RestaurantsTableService': 'True', 'WiFi': 'u'free'', 'BikeParking': 'True', 'BusinessParking': '{'garage': False, 'street': True, 'validated': False, 'lot': False, 'valet': False}', 'BusinessAcceptsCreditCards': 'True', 'RestaurantsReservations': 'False', 'WheelchairAccessible': 'True', 'Caters': 'True', 'OutdoorSeating': 'True', 'RestaurantsGoodForGroups': 'True', 'HappyHour': 'True', 'BusinessAcceptsBitcoin': 'False', 'RestaurantsPriceRange2': '2', 'Ambience': '{'touristy': False, 'hipster': False, 'romantic': False, 'divey': False, 'intimate': False, 'trendy': False, 'upscale': False, 'classy': False, 'casual': True}', 'HasTV': 'True', 'Alcohol': ''beer_and_wine'', 'GoodForMeal': '{'dessert': False, 'latenight': False, 'lunch': False, 'dinner': False, 'brunch': False, 'breakfast': False}', 'DogsAllowed': 'False', 'RestaurantsTakeOut': 'True', 'NoiseLevel': 'u'average'', 'RestaurantsAttire': ''casual'', 'RestaurantsDelivery': 'None'}\n",
       "1                                                                                            {'RestaurantsTakeOut': 'True', 'RestaurantsAttire': 'u'casual'', 'GoodForKids': 'True', 'BikeParking': 'False', 'OutdoorSeating': 'False', 'Ambience': '{'romantic': False, 'intimate': False, 'touristy': False, 'hipster': False, 'divey': False, 'classy': False, 'trendy': False, 'upscale': False, 'casual': True}', 'Caters': 'True', 'RestaurantsReservations': 'False', 'RestaurantsDelivery': 'False', 'HasTV': 'False', 'RestaurantsGoodForGroups': 'False', 'BusinessAcceptsCreditCards': 'True', 'NoiseLevel': 'u'average'', 'ByAppointmentOnly': 'False', 'RestaurantsPriceRange2': '2', 'WiFi': 'u'free'', 'BusinessParking': '{'garage': True, 'street': False, 'validated': False, 'lot': False, 'valet': False}', 'Alcohol': 'u'beer_and_wine'', 'GoodForMeal': '{'dessert': False, 'latenight': False, 'lunch': True, 'dinner': False, 'brunch': False, 'breakfast': True}'}\n",
       "2                                                                                                                                                                                                                                                                                                                                                                                                                                                                                                                                                                                                                                                                                                                                                     {'BusinessAcceptsCreditCards': 'True', 'RestaurantsPriceRange2': '2', 'ByAppointmentOnly': 'False', 'BikeParking': 'False', 'BusinessParking': '{'garage': False, 'street': True, 'validated': False, 'lot': False, 'valet': False}'}\n",
       "3                                                                                                                                                                                                                                                                                                                                                                                                                                                                                                                                                                                                                                                                                                                                                                                                                                                                {'RestaurantsPriceRange2': '1', 'BusinessAcceptsCreditCards': 'True', 'GoodForKids': 'True', 'ByAppointmentOnly': 'False'}\n",
       "4                                                                                                                                                                                                                                                                                                                                                                                                                                                                                                                                                                                                                                                                                                                                                                                                                 {'GoodForKids': 'False', 'BusinessParking': '{'garage': False, 'street': False, 'validated': False, 'lot': False, 'valet': False}', 'BusinessAcceptsCreditCards': 'True'}\n",
       "5                                                                                                                                                      {'GoodForKids': 'True', 'Alcohol': 'u'none'', 'RestaurantsGoodForGroups': 'True', 'RestaurantsReservations': 'True', 'BusinessParking': '{'garage': False, 'street': True, 'validated': False, 'lot': False, 'valet': False}', 'RestaurantsAttire': 'u'casual'', 'BikeParking': 'True', 'RestaurantsPriceRange2': '2', 'HasTV': 'False', 'NoiseLevel': 'u'average'', 'WiFi': 'u'no'', 'RestaurantsTakeOut': 'True', 'Caters': 'False', 'OutdoorSeating': 'False', 'Ambience': '{'romantic': False, 'intimate': False, 'classy': False, 'hipster': False, 'divey': False, 'touristy': False, 'trendy': False, 'upscale': False, 'casual': True}', 'GoodForMeal': '{'dessert': False, 'latenight': False, 'lunch': True, 'dinner': True, 'brunch': False, 'breakfast': False}', 'DogsAllowed': 'False', 'RestaurantsDelivery': 'True'}\n",
       "6                                                                                                                                                                                                                                                                                                                                                                                                                                                                                                                                                                                                                                                                                                                                                                                                                                                                                           {'AcceptsInsurance': 'True', 'BusinessAcceptsCreditCards': 'True', 'ByAppointmentOnly': 'True'}\n",
       "7                                                                                                                                                                                                                                                                                                                                                                                                                                                                                                                                                                                                                                                                                                                                                                                                                                                                                                                                                                                      None\n",
       "8                                                                                                                                                                                                                                                                                                                                                                                                                                                                                                                                                                                               {'RestaurantsPriceRange2': '1', 'ByAppointmentOnly': 'False', 'BusinessParking': '{'garage': False, 'street': False, 'validated': False, 'lot': True, 'valet': False}', 'BusinessAcceptsCreditCards': 'True', 'DogsAllowed': 'True', 'RestaurantsDelivery': 'None', 'BusinessAcceptsBitcoin': 'False', 'BikeParking': 'True', 'RestaurantsTakeOut': 'None', 'WheelchairAccessible': 'True'}\n",
       "9                                                                                                                                                                                                                                                                                                                                                                                                                                                                                                                                                                                                                                                                                                                                                                           {'BusinessAcceptsCreditCards': 'False', 'RestaurantsPriceRange2': '3', 'ByAppointmentOnly': 'False', 'BusinessParking': '{'garage': False, 'street': False, 'validated': False, 'lot': False, 'valet': False}'}\n",
       "10                                                                                                                                                                                                                                                                                                                                                                                                                                                                                                                                                                                                                                       {'BikeParking': 'True', 'RestaurantsTakeOut': 'True', 'BusinessParking': '{'garage': False, 'street': True, 'validated': False, 'lot': False, 'valet': False}', 'WheelchairAccessible': 'True', 'DogsAllowed': 'True', 'RestaurantsDelivery': 'False', 'BusinessAcceptsBitcoin': 'False', 'Caters': 'False', 'BusinessAcceptsCreditCards': 'True'}\n",
       "11                                                                                                                                                                                                                                                                                                                                                                                                                                                                         {'RestaurantsPriceRange2': '2', 'BusinessParking': '{'garage': False, 'street': False, 'validated': False, 'lot': True, 'valet': False}', 'WheelchairAccessible': 'True', 'ByAppointmentOnly': 'False', 'DogsAllowed': 'False', 'BusinessAcceptsCreditCards': 'True', 'GoodForKids': 'True', 'BikeParking': 'True', 'HairSpecializesIn': '{'straightperms': True, 'coloring': True, 'extensions': True, 'africanamerican': True, 'curly': True, 'kids': True, 'perms': True, 'asian': True}', 'WiFi': 'u'free''}\n",
       "12                                                                                                                                       {'RestaurantsGoodForGroups': 'True', 'HasTV': 'True', 'GoodForKids': 'True', 'RestaurantsTakeOut': 'True', 'RestaurantsPriceRange2': '2', 'Ambience': '{'romantic': False, 'intimate': False, 'classy': False, 'hipster': False, 'divey': False, 'touristy': False, 'trendy': False, 'upscale': False, 'casual': True}', 'BikeParking': 'True', 'RestaurantsReservations': 'False', 'BusinessParking': '{'garage': False, 'street': False, 'validated': False, 'lot': True, 'valet': False}', 'RestaurantsTableService': 'False', 'RestaurantsAttire': 'u'casual'', 'RestaurantsDelivery': 'True', 'OutdoorSeating': 'True', 'DogsAllowed': 'True', 'NoiseLevel': ''average'', 'Alcohol': 'u'none'', 'BusinessAcceptsCreditCards': 'True', 'Caters': 'True', 'WheelchairAccessible': 'True', 'WiFi': 'u'free'', 'BusinessAcceptsBitcoin': 'False'}\n",
       "13                                                                                                                                                                                                                                                                                                                                                                                                                                                                                                                                                                                                                                                 {'BusinessParking': '{'garage': False, 'street': False, 'validated': False, 'lot': True, 'valet': False}', 'RestaurantsDelivery': 'False', 'BusinessAcceptsCreditCards': 'True', 'RestaurantsPriceRange2': '1', 'DogsAllowed': 'False', 'NoiseLevel': 'u'quiet'', 'RestaurantsTakeOut': 'True', 'Caters': 'True', 'BikeParking': 'True'}\n",
       "14                                                                                                                                                                                                                                                                                                                                                                                                                                                                                                                                                                                                                                                                                                                                                     {'BusinessParking': '{'garage': False, 'street': True, 'validated': False, 'lot': False, 'valet': False}', 'BusinessAcceptsCreditCards': 'True', 'ByAppointmentOnly': 'False', 'BikeParking': 'True', 'RestaurantsPriceRange2': '2'}\n",
       "15                                                                                                                                                                                                                                                                                                                                                                                                                                                                                                                                                                                                                                                                                                                                                                                                                                                                                                                                                   {'BusinessAcceptsCreditCards': 'True'}\n",
       "16                                                                                                                                                                                                                                                                                                                                                                                                                                                                                                                            {'HasTV': 'False', 'Caters': 'False', 'BusinessParking': '{'garage': False, 'street': False, 'validated': False, 'lot': False, 'valet': False}', 'BusinessAcceptsCreditCards': 'True', 'RestaurantsPriceRange2': '2', 'BikeParking': 'True', 'RestaurantsAttire': 'u'casual'', 'WiFi': 'u'free'', 'RestaurantsGoodForGroups': 'True', 'RestaurantsReservations': 'False', 'GoodForKids': 'True', 'RestaurantsTakeOut': 'None', 'RestaurantsDelivery': 'None'}\n",
       "17                                                                                                                                                                                                                                                                                                                                                                                                                                                                                                                                                                                                                                                                                                                                                                                                                                                                           {'WiFi': ''free'', 'RestaurantsPriceRange2': '2', 'BusinessAcceptsCreditCards': 'True', 'DogsAllowed': 'True'}\n",
       "18                                                                                                                                                                                                                                                                                                                                                                                                                                                                                                                                                                                                                                                                                                                                                                                                                                                                                                                                                                                     None\n",
       "19                                                                                                                                                                                                    {'BikeParking': 'False', 'RestaurantsPriceRange2': '1', 'BusinessParking': '{'garage': False, 'street': False, 'validated': False, 'lot': False, 'valet': False}', 'BusinessAcceptsCreditCards': 'True', 'Alcohol': ''none'', 'RestaurantsAttire': ''casual'', 'RestaurantsReservations': 'False', 'GoodForMeal': '{'dessert': False, 'latenight': False, 'lunch': False, 'dinner': False, 'brunch': False, 'breakfast': False}', 'GoodForKids': 'True', 'Ambience': '{'touristy': False, 'hipster': False, 'romantic': False, 'divey': False, 'intimate': False, 'trendy': False, 'upscale': False, 'classy': False, 'casual': False}', 'RestaurantsGoodForGroups': 'True', 'HasTV': 'True', 'OutdoorSeating': 'False', 'RestaurantsTakeOut': 'True', 'RestaurantsDelivery': 'True'}"
      ]
     },
     "execution_count": 5,
     "metadata": {},
     "output_type": "execute_result"
    }
   ],
   "source": [
    "all_shops = pd.read_json(resource_path + \"yelp_academic_dataset_business.json\", lines=True )\n",
    "\n",
    "print(all_shops.keys(),end=\"\\n-------------------------------------------------------------\\n\")\n",
    "print(\"資料筆數:\" + str(len(all_shops)),end=\"\\n-------------------------------------------------------------\\n\")\n",
    "all_shops[['attributes']].head(20)"
   ]
  },
  {
   "cell_type": "code",
   "execution_count": null,
   "id": "4695dbac",
   "metadata": {
    "scrolled": true
   },
   "outputs": [],
   "source": [
    "all_shops = pd.read_json(resource_path + \"yelp_academic_dataset_business.json\", lines=True )\n",
    "\n",
    "print(all_shops.keys(),end=\"\\n-------------------------------------------------------------\\n\")\n",
    "print(\"資料筆數:\" + str(len(all_shops)),end=\"\\n-------------------------------------------------------------\\n\")\n",
    "all_shops[['business_id', 'name', 'address', 'city', 'state','stars', 'review_count']].head()"
   ]
  },
  {
   "cell_type": "markdown",
   "id": "7ec4828d",
   "metadata": {},
   "source": [
    "#### 餐廳資料"
   ]
  },
  {
   "cell_type": "code",
   "execution_count": null,
   "id": "4a259701",
   "metadata": {
    "scrolled": false
   },
   "outputs": [],
   "source": [
    "df_list = []\n",
    "\n",
    "for i in range(len(all_shops)):\n",
    "    if \"Restaurants\" in str(all_shops.loc[i, 'categories']):\n",
    "        df_list.append(all_shops.loc[[i]])\n",
    "        \n",
    "restaurants = pd.concat(df_list).reset_index(drop=True)"
   ]
  },
  {
   "cell_type": "code",
   "execution_count": null,
   "id": "910fa418",
   "metadata": {
    "scrolled": true
   },
   "outputs": [],
   "source": [
    "print(\"資料筆數:\" + str(len(restaurants)))\n",
    "print(\"資料是否有重複:\" + str(restaurants['business_id'].duplicated().any()))\n",
    "print(\"資料是否有空值:\" + str(restaurants.isnull().values.any()))"
   ]
  },
  {
   "cell_type": "code",
   "execution_count": null,
   "id": "fb29a435",
   "metadata": {},
   "outputs": [],
   "source": [
    "# 把所有餐廳資料存成csv檔\n",
    "restaurants.to_csv(result_path + \"restaurants.csv\", index = False)"
   ]
  },
  {
   "cell_type": "code",
   "execution_count": null,
   "id": "d2effae2",
   "metadata": {},
   "outputs": [],
   "source": [
    "business_id = restaurants['business_id']"
   ]
  },
  {
   "cell_type": "markdown",
   "id": "247ce250",
   "metadata": {},
   "source": [
    "## Reviews\n",
    "Contains full review text data including the user_id that wrote the review and the business_id the review is written for."
   ]
  },
  {
   "cell_type": "markdown",
   "id": "6396a86e",
   "metadata": {},
   "source": [
    "#### 所有店家評論"
   ]
  },
  {
   "cell_type": "code",
   "execution_count": null,
   "id": "0ecca2ea",
   "metadata": {},
   "outputs": [],
   "source": [
    "rv_chunk_data = pd.read_json(resource_path + \"yelp_academic_dataset_review.json\", lines=True, chunksize=100000 )\n",
    "rv_chunk_list = []\n",
    "\n",
    "for chunk in rv_chunk_data:\n",
    "    rv_chunk_list.append(chunk)\n",
    "    \n",
    "len(rv_chunk_list)"
   ]
  },
  {
   "cell_type": "code",
   "execution_count": null,
   "id": "1d05acd8",
   "metadata": {},
   "outputs": [],
   "source": [
    "print(rv_chunk_list[0].keys(),end=\"\\n-------------------------------------------------------------\\n\")\n",
    "print(\"評論筆數:\" + str((len(rv_chunk_list)-1)*100000 + len(rv_chunk_list[-1])),end=\"\\n-------------------------------------------------------------\\n\")\n",
    "rv_chunk_list[0].loc[0:10, ['review_id', 'user_id', 'business_id', 'stars', 'text', 'date']]"
   ]
  },
  {
   "cell_type": "markdown",
   "id": "4417ffee",
   "metadata": {},
   "source": [
    "#### 餐廳評論"
   ]
  },
  {
   "cell_type": "code",
   "execution_count": null,
   "id": "459ef9d1",
   "metadata": {},
   "outputs": [],
   "source": [
    "# 把所有餐廳評論存成多個csv檔\n",
    "counts = 0\n",
    "for i in range(0, len(rv_chunk_list)):\n",
    "    reviews = pd.merge(business_id, rv_chunk_list[i], on=\"business_id\", how=\"inner\")\n",
    "    reviews.to_csv(result_path + f\"reviews/reviews{i+1}.csv\", index = False)\n",
    "    counts += len(reviews)\n",
    "    \n",
    "print(\"評論筆數:\" + str(counts))"
   ]
  },
  {
   "cell_type": "code",
   "execution_count": null,
   "id": "7298d9a1",
   "metadata": {},
   "outputs": [],
   "source": [
    "# 把多個csv檔存成一個csv檔\n",
    "files = glob(result_path + \"reviews/reviews*.csv\")\n",
    "print(len(files))\n",
    "df = pd.concat((pd.read_csv(file) for file in files)).reset_index(drop=True)\n",
    "df.to_csv(result_path + \"reviews.csv\", index = False)"
   ]
  },
  {
   "cell_type": "markdown",
   "id": "708791e6",
   "metadata": {},
   "source": [
    "## User Info\n",
    "User data including the user's friend mapping and all the metadata associated with the user."
   ]
  },
  {
   "cell_type": "code",
   "execution_count": null,
   "id": "24dbc1b7",
   "metadata": {},
   "outputs": [],
   "source": [
    "ci_chunk_data = pd.read_json(resource_path + \"yelp_academic_dataset_user.json\", lines=True, chunksize=100000)\n",
    "ci_chunk_list = []\n",
    "\n",
    "for chunk in ci_chunk_data:\n",
    "    ci_chunk_list.append(chunk)"
   ]
  },
  {
   "cell_type": "code",
   "execution_count": null,
   "id": "0f49bf85",
   "metadata": {},
   "outputs": [],
   "source": [
    "print(ci_chunk_list[0].keys(),end=\"\\n-------------------------------------------------------------\\n\")\n",
    "print(\"資料筆數:\" + str((len(ci_chunk_list)-1)*100000 + len(ci_chunk_list[-1])),end=\"\\n-------------------------------------------------------------\\n\")\n",
    "ci_chunk_list[0].loc[0:10, ['user_id', 'name', 'review_count', 'yelping_since', 'average_stars']]"
   ]
  },
  {
   "cell_type": "code",
   "execution_count": null,
   "id": "0ed8d246",
   "metadata": {
    "scrolled": false
   },
   "outputs": [],
   "source": [
    "# 把所有使用者資訊存成多個csv檔\n",
    "for i in range(0, len(ci_chunk_list)):\n",
    "    ci_chunk_list[i].to_csv(result_path + f\"user/user{i+1}.csv\", index = False)"
   ]
  },
  {
   "cell_type": "code",
   "execution_count": null,
   "id": "89cd4dca",
   "metadata": {},
   "outputs": [],
   "source": [
    "# 把多個csv檔存成一個csv檔\n",
    "files = glob(result_path + \"user/user*.csv\")\n",
    "print(len(files))\n",
    "df = pd.concat((pd.read_csv(file) for file in files)).reset_index(drop=True)\n",
    "df.to_csv(result_path + \"user.csv\", index = False)"
   ]
  },
  {
   "cell_type": "markdown",
   "id": "caf063d8",
   "metadata": {},
   "source": [
    "## Check in Info\n",
    "Checkins on a business"
   ]
  },
  {
   "cell_type": "code",
   "execution_count": null,
   "id": "f003fbea",
   "metadata": {},
   "outputs": [],
   "source": [
    "check = pd.read_json(resource_path + \"yelp_academic_dataset_checkin.json\",lines=True )\n",
    "print(check.keys(),end=\"\\n-------------------------------------------------------------\\n\")\n",
    "print(\"資料筆數:\" + str(len(check)),end=\"\\n-------------------------------------------------------------\\n\")\n",
    "check.head(2)"
   ]
  },
  {
   "cell_type": "markdown",
   "id": "1ba16bbb",
   "metadata": {},
   "source": [
    "## Tips\n",
    "Tips written by a user on a business. Tips are shorter than reviews and tend to convey quick suggestions."
   ]
  },
  {
   "cell_type": "markdown",
   "id": "4f57642d",
   "metadata": {},
   "source": [
    "#### 所有店家Tips"
   ]
  },
  {
   "cell_type": "code",
   "execution_count": null,
   "id": "c0549d78",
   "metadata": {},
   "outputs": [],
   "source": [
    "all_tips = pd.read_json(resource_path + \"yelp_academic_dataset_tip.json\",lines=True )\n",
    "print(all_tips.keys(),end=\"\\n-------------------------------------------------------------\\n\")\n",
    "print(\"資料筆數:\" + str(len(all_tips)),end=\"\\n-------------------------------------------------------------\\n\")\n",
    "all_tips.head(5)"
   ]
  },
  {
   "cell_type": "markdown",
   "id": "7fc15bba",
   "metadata": {},
   "source": [
    "#### 餐廳Tips"
   ]
  },
  {
   "cell_type": "code",
   "execution_count": null,
   "id": "808c87c6",
   "metadata": {},
   "outputs": [],
   "source": [
    "restaurants_tips = pd.merge(business_id, all_tips, on=\"business_id\", how=\"inner\")\n",
    "print(\"資料筆數:\" + str(len(restaurants_tips)),end=\"\\n-------------------------------------------------------------\\n\")\n",
    "restaurants_tips[['user_id', 'business_id', 'text', 'date']].head(10)"
   ]
  }
 ],
 "metadata": {
  "kernelspec": {
   "display_name": "Python 3",
   "language": "python",
   "name": "python3"
  },
  "language_info": {
   "codemirror_mode": {
    "name": "ipython",
    "version": 3
   },
   "file_extension": ".py",
   "mimetype": "text/x-python",
   "name": "python",
   "nbconvert_exporter": "python",
   "pygments_lexer": "ipython3",
   "version": "3.8.8"
  }
 },
 "nbformat": 4,
 "nbformat_minor": 5
}
