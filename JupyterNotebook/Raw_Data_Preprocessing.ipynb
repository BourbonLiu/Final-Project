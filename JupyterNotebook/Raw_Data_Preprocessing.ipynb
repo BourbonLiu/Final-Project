{
 "cells": [
  {
   "cell_type": "code",
   "execution_count": null,
   "id": "b6a6300b",
   "metadata": {},
   "outputs": [],
   "source": [
    "import pandas as pd\n",
    "import json\n",
    "from glob import glob"
   ]
  },
  {
   "cell_type": "code",
   "execution_count": null,
   "id": "7ef07931",
   "metadata": {},
   "outputs": [],
   "source": [
    "pd.options.display.max_colwidth = None"
   ]
  },
  {
   "cell_type": "code",
   "execution_count": null,
   "id": "0d7fe2d9",
   "metadata": {},
   "outputs": [],
   "source": [
    "resource_path = \"Dataset/\"\n",
    "result_path = \"Dataset/Done/\""
   ]
  },
  {
   "cell_type": "markdown",
   "id": "9f866919",
   "metadata": {},
   "source": [
    "# Dataset\n",
    "\n",
    "[Yelp Dataset](https://www.yelp.com/dataset)\n",
    "* yelp_academic_dataset_business.json\n",
    "* yelp_academic_dataset_review.json\n",
    "* yelp_academic_dataset_user.json\n",
    "* yelp_academic_dataset_checkin.json\n",
    "* yelp_academic_dataset_tip.json\n",
    "* Dataset/photos.json"
   ]
  },
  {
   "cell_type": "markdown",
   "id": "1b157cf3",
   "metadata": {},
   "source": [
    "# Business Data\n",
    "Contains business data including location data, attributes, and categories.\n",
    "* yelp_academic_dataset_business.json"
   ]
  },
  {
   "cell_type": "markdown",
   "id": "6d8b39f0",
   "metadata": {},
   "source": [
    "#### 所有店家資料"
   ]
  },
  {
   "cell_type": "code",
   "execution_count": null,
   "id": "7dda7d16",
   "metadata": {
    "scrolled": true
   },
   "outputs": [],
   "source": [
    "all_shops = pd.read_json(resource_path + \"yelp_academic_dataset_business.json\", lines=True )"
   ]
  },
  {
   "cell_type": "code",
   "execution_count": null,
   "id": "a77e1143",
   "metadata": {},
   "outputs": [],
   "source": [
    "print(all_shops.keys(),end=\"\\n-------------------------------------------------------------\\n\")\n",
    "print(\"資料筆數:\" + str(len(all_shops)),end=\"\\n-------------------------------------------------------------\\n\")\n",
    "all_shops[['attributes']].head(20)"
   ]
  },
  {
   "cell_type": "code",
   "execution_count": null,
   "id": "4695dbac",
   "metadata": {
    "scrolled": true
   },
   "outputs": [],
   "source": [
    "all_shops = pd.read_json(resource_path + \"yelp_academic_dataset_business.json\", lines=True )\n",
    "\n",
    "print(all_shops.keys(),end=\"\\n-------------------------------------------------------------\\n\")\n",
    "print(\"資料筆數:\" + str(len(all_shops)),end=\"\\n-------------------------------------------------------------\\n\")\n",
    "all_shops[['business_id', 'name', 'address', 'city', 'state','stars', 'review_count']].head()"
   ]
  },
  {
   "cell_type": "markdown",
   "id": "7ec4828d",
   "metadata": {},
   "source": [
    "#### 取出餐廳資料"
   ]
  },
  {
   "cell_type": "code",
   "execution_count": null,
   "id": "4a259701",
   "metadata": {
    "scrolled": false
   },
   "outputs": [],
   "source": [
    "df_list = []\n",
    "\n",
    "for i in range(len(all_shops)):\n",
    "    if \"Restaurants\" in str(all_shops.loc[i, 'categories']):\n",
    "        df_list.append(all_shops.loc[[i]])\n",
    "        \n",
    "restaurants = pd.concat(df_list).reset_index(drop=True)"
   ]
  },
  {
   "cell_type": "code",
   "execution_count": null,
   "id": "910fa418",
   "metadata": {
    "scrolled": true
   },
   "outputs": [],
   "source": [
    "print(\"資料筆數:\" + str(len(restaurants)))\n",
    "print(\"資料是否有重複:\" + str(restaurants['business_id'].duplicated().any()))\n",
    "print(\"資料是否有空值:\" + str(restaurants.isnull().values.any()))"
   ]
  },
  {
   "cell_type": "code",
   "execution_count": null,
   "id": "fb29a435",
   "metadata": {},
   "outputs": [],
   "source": [
    "# 把所有餐廳資料存成csv檔\n",
    "restaurants.to_csv(result_path + \"restaurants.csv\", index = False)"
   ]
  },
  {
   "cell_type": "code",
   "execution_count": null,
   "id": "d2effae2",
   "metadata": {},
   "outputs": [],
   "source": [
    "business_id = restaurants['business_id']"
   ]
  },
  {
   "cell_type": "markdown",
   "id": "247ce250",
   "metadata": {},
   "source": [
    "# Reviews Data\n",
    "Contains full review text data including the user_id that wrote the review and the business_id the review is written for.\n",
    "* yelp_academic_dataset_review.json"
   ]
  },
  {
   "cell_type": "markdown",
   "id": "6396a86e",
   "metadata": {},
   "source": [
    "#### 所有店家評論"
   ]
  },
  {
   "cell_type": "code",
   "execution_count": null,
   "id": "0ecca2ea",
   "metadata": {},
   "outputs": [],
   "source": [
    "rv_chunk_data = pd.read_json(resource_path + \"yelp_academic_dataset_review.json\", lines=True, chunksize=100000 )"
   ]
  },
  {
   "cell_type": "code",
   "execution_count": null,
   "id": "3d537131",
   "metadata": {},
   "outputs": [],
   "source": [
    "rv_chunk_list = []\n",
    "for chunk in rv_chunk_data:\n",
    "    rv_chunk_list.append(chunk)\n",
    "    \n",
    "len(rv_chunk_list)"
   ]
  },
  {
   "cell_type": "code",
   "execution_count": null,
   "id": "1d05acd8",
   "metadata": {},
   "outputs": [],
   "source": [
    "print(rv_chunk_list[0].keys(),end=\"\\n-------------------------------------------------------------\\n\")\n",
    "print(\"評論筆數:\" + str((len(rv_chunk_list)-1)*100000 + len(rv_chunk_list[-1])),end=\"\\n-------------------------------------------------------------\\n\")\n",
    "rv_chunk_list[0].loc[0:10, ['review_id', 'user_id', 'business_id', 'stars', 'text', 'date']]"
   ]
  },
  {
   "cell_type": "markdown",
   "id": "4417ffee",
   "metadata": {},
   "source": [
    "#### 取出餐廳評論"
   ]
  },
  {
   "cell_type": "code",
   "execution_count": null,
   "id": "459ef9d1",
   "metadata": {},
   "outputs": [],
   "source": [
    "# 把所有餐廳評論存成多個csv檔\n",
    "counts = 0\n",
    "for i in range(0, len(rv_chunk_list)):\n",
    "    reviews = pd.merge(business_id, rv_chunk_list[i], on=\"business_id\", how=\"inner\")\n",
    "    reviews.to_csv(result_path + f\"reviews/reviews{i+1}.csv\", index = False)\n",
    "    counts += len(reviews)\n",
    "    \n",
    "print(\"評論筆數:\" + str(counts))"
   ]
  },
  {
   "cell_type": "code",
   "execution_count": null,
   "id": "7298d9a1",
   "metadata": {},
   "outputs": [],
   "source": [
    "# 把多個csv檔存成一個csv檔\n",
    "files = glob(result_path + \"reviews/reviews*.csv\")\n",
    "print(len(files))\n",
    "df = pd.concat((pd.read_csv(file) for file in files)).reset_index(drop=True)\n",
    "df.to_csv(result_path + \"reviews.csv\", index = False)"
   ]
  },
  {
   "cell_type": "markdown",
   "id": "708791e6",
   "metadata": {},
   "source": [
    "# User Data\n",
    "User data including the user's friend mapping and all the metadata associated with the user.\n",
    "* yelp_academic_dataset_user.json"
   ]
  },
  {
   "cell_type": "code",
   "execution_count": null,
   "id": "24dbc1b7",
   "metadata": {},
   "outputs": [],
   "source": [
    "ci_chunk_data = pd.read_json(resource_path + \"yelp_academic_dataset_user.json\", lines=True, chunksize=100000)"
   ]
  },
  {
   "cell_type": "code",
   "execution_count": null,
   "id": "6f319f07",
   "metadata": {},
   "outputs": [],
   "source": [
    "ci_chunk_list = []\n",
    "for chunk in ci_chunk_data:\n",
    "    ci_chunk_list.append(chunk)"
   ]
  },
  {
   "cell_type": "code",
   "execution_count": null,
   "id": "0f49bf85",
   "metadata": {},
   "outputs": [],
   "source": [
    "print(ci_chunk_list[0].keys(),end=\"\\n-------------------------------------------------------------\\n\")\n",
    "print(\"資料筆數:\" + str((len(ci_chunk_list)-1)*100000 + len(ci_chunk_list[-1])),end=\"\\n-------------------------------------------------------------\\n\")\n",
    "ci_chunk_list[0].loc[0:10, ['user_id', 'name', 'review_count', 'yelping_since', 'average_stars']]"
   ]
  },
  {
   "cell_type": "code",
   "execution_count": null,
   "id": "0ed8d246",
   "metadata": {
    "scrolled": false
   },
   "outputs": [],
   "source": [
    "# 把所有使用者資訊存成多個csv檔\n",
    "for i in range(0, len(ci_chunk_list)):\n",
    "    ci_chunk_list[i].to_csv(result_path + f\"user/user{i+1}.csv\", index = False)"
   ]
  },
  {
   "cell_type": "code",
   "execution_count": null,
   "id": "89cd4dca",
   "metadata": {},
   "outputs": [],
   "source": [
    "# 把多個csv檔存成一個csv檔\n",
    "files = glob(result_path + \"user/user*.csv\")\n",
    "print(len(files))\n",
    "df = pd.concat((pd.read_csv(file) for file in files)).reset_index(drop=True)\n",
    "df.to_csv(result_path + \"user.csv\", index = False)"
   ]
  },
  {
   "cell_type": "markdown",
   "id": "caf063d8",
   "metadata": {},
   "source": [
    "# Check-in Data\n",
    "Checkins on a business\n",
    "* yelp_academic_dataset_checkin.json"
   ]
  },
  {
   "cell_type": "code",
   "execution_count": null,
   "id": "f003fbea",
   "metadata": {},
   "outputs": [],
   "source": [
    "check = pd.read_json(resource_path + \"yelp_academic_dataset_checkin.json\",lines=True )"
   ]
  },
  {
   "cell_type": "code",
   "execution_count": null,
   "id": "920f988f",
   "metadata": {},
   "outputs": [],
   "source": [
    "print(check.keys(),end=\"\\n-------------------------------------------------------------\\n\")\n",
    "print(\"資料筆數:\" + str(len(check)),end=\"\\n-------------------------------------------------------------\\n\")\n",
    "check.head(2)"
   ]
  },
  {
   "cell_type": "markdown",
   "id": "1ba16bbb",
   "metadata": {},
   "source": [
    "# Tips Data\n",
    "Tips written by a user on a business. Tips are shorter than reviews and tend to convey quick suggestions.\n",
    "* yelp_academic_dataset_tip.json"
   ]
  },
  {
   "cell_type": "markdown",
   "id": "4f57642d",
   "metadata": {},
   "source": [
    "#### 所有店家Tips"
   ]
  },
  {
   "cell_type": "code",
   "execution_count": null,
   "id": "c0549d78",
   "metadata": {},
   "outputs": [],
   "source": [
    "all_tips = pd.read_json(resource_path + \"yelp_academic_dataset_tip.json\",lines=True )"
   ]
  },
  {
   "cell_type": "code",
   "execution_count": null,
   "id": "3a3e885f",
   "metadata": {},
   "outputs": [],
   "source": [
    "print(all_tips.keys(),end=\"\\n-------------------------------------------------------------\\n\")\n",
    "print(\"資料筆數:\" + str(len(all_tips)),end=\"\\n-------------------------------------------------------------\\n\")\n",
    "all_tips.head(5)"
   ]
  },
  {
   "cell_type": "markdown",
   "id": "7fc15bba",
   "metadata": {},
   "source": [
    "#### 餐廳Tips"
   ]
  },
  {
   "cell_type": "code",
   "execution_count": null,
   "id": "808c87c6",
   "metadata": {},
   "outputs": [],
   "source": [
    "restaurants_tips = pd.merge(business_id, all_tips, on=\"business_id\", how=\"inner\")\n",
    "print(\"資料筆數:\" + str(len(restaurants_tips)),end=\"\\n-------------------------------------------------------------\\n\")\n",
    "restaurants_tips[['user_id', 'business_id', 'text', 'date']].head(10)"
   ]
  },
  {
   "cell_type": "markdown",
   "id": "faa97a0b",
   "metadata": {},
   "source": [
    "# Photos Data\n",
    "Contains photo data including the caption and classification (one of \"food\", \"drink\", \"menu\", \"inside\" or \"outside\").\n",
    "* Dataset/photos.json"
   ]
  },
  {
   "cell_type": "code",
   "execution_count": null,
   "id": "c4565ac1",
   "metadata": {},
   "outputs": [],
   "source": [
    "photos = pd.read_json(\"Dataset/photos.json\", lines=True)"
   ]
  },
  {
   "cell_type": "code",
   "execution_count": null,
   "id": "b74231e4",
   "metadata": {},
   "outputs": [],
   "source": [
    "print(len(photos))\n",
    "photos.head()"
   ]
  },
  {
   "cell_type": "code",
   "execution_count": null,
   "id": "8f9fd778",
   "metadata": {},
   "outputs": [],
   "source": [
    "photos[~photos['label'].duplicated()]"
   ]
  }
 ],
 "metadata": {
  "kernelspec": {
   "display_name": "Python 3",
   "language": "python",
   "name": "python3"
  },
  "language_info": {
   "codemirror_mode": {
    "name": "ipython",
    "version": 3
   },
   "file_extension": ".py",
   "mimetype": "text/x-python",
   "name": "python",
   "nbconvert_exporter": "python",
   "pygments_lexer": "ipython3",
   "version": "3.8.8"
  }
 },
 "nbformat": 4,
 "nbformat_minor": 5
}
